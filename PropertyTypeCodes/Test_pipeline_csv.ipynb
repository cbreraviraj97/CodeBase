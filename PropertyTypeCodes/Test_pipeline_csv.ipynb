{
 "cells": [
  {
   "cell_type": "code",
   "execution_count": 15,
   "id": "1d32e6b0",
   "metadata": {
    "ExecuteTime": {
     "end_time": "2023-04-06T02:22:11.378412Z",
     "start_time": "2023-04-06T02:22:10.712490Z"
    }
   },
   "outputs": [
    {
     "name": "stderr",
     "output_type": "stream",
     "text": [
      "/opt/conda/lib/python3.8/site-packages/transformers/pipelines/text_classification.py:104: UserWarning: `return_all_scores` is now deprecated,  if want a similar funcionality use `top_k=None` instead of `return_all_scores=True` or `top_k=1` instead of `return_all_scores=False`.\n",
      "  warnings.warn(\n"
     ]
    }
   ],
   "source": [
    "import pickle\n",
    "import pandas as pd\n",
    "from transformers import TextClassificationPipeline, DistilBertForSequenceClassification, DistilBertTokenizer\n",
    "import ast\n",
    "import torch\n",
    "tokenizer = DistilBertTokenizer.from_pretrained(\"distilbert-base-uncased\")\n",
    "model = pickle.load(open('embedding_model.pkl', 'rb'))\n",
    "pipe = TextClassificationPipeline(model=model, tokenizer=tokenizer, return_all_scores=True)\n",
    "le = pickle.load(open('label_enc.pkl', 'rb'))"
   ]
  },
  {
   "cell_type": "code",
   "execution_count": 21,
   "id": "21951097",
   "metadata": {
    "ExecuteTime": {
     "end_time": "2023-04-06T02:26:54.505879Z",
     "start_time": "2023-04-06T02:26:54.069814Z"
    }
   },
   "outputs": [
    {
     "name": "stderr",
     "output_type": "stream",
     "text": [
      "/opt/conda/lib/python3.8/site-packages/openpyxl/worksheet/_reader.py:312: UserWarning: Data Validation extension is not supported and will be removed\n",
      "  warn(msg)\n"
     ]
    }
   ],
   "source": [
    "### Temporary code cells\n",
    "comparison_data = pd.read_excel(\"DATA/EDP_PropertyType_ML_results_comparison_0403.xlsx\", sheet_name = \"EDP_PropertyType_ML_comparison\")"
   ]
  },
  {
   "cell_type": "code",
   "execution_count": 22,
   "id": "4d37d30e",
   "metadata": {
    "ExecuteTime": {
     "end_time": "2023-04-06T02:26:55.477777Z",
     "start_time": "2023-04-06T02:26:55.465601Z"
    }
   },
   "outputs": [
    {
     "data": {
      "text/html": [
       "<div>\n",
       "<style scoped>\n",
       "    .dataframe tbody tr th:only-of-type {\n",
       "        vertical-align: middle;\n",
       "    }\n",
       "\n",
       "    .dataframe tbody tr th {\n",
       "        vertical-align: top;\n",
       "    }\n",
       "\n",
       "    .dataframe thead th {\n",
       "        text-align: right;\n",
       "    }\n",
       "</style>\n",
       "<table border=\"1\" class=\"dataframe\">\n",
       "  <thead>\n",
       "    <tr style=\"text-align: right;\">\n",
       "      <th></th>\n",
       "      <th>EDP_Property_type</th>\n",
       "      <th>Count</th>\n",
       "      <th>myData_Property_manual_selection</th>\n",
       "      <th>result_from_ML_0403_Ravi</th>\n",
       "      <th>columnC</th>\n",
       "      <th>comparison</th>\n",
       "    </tr>\n",
       "  </thead>\n",
       "  <tbody>\n",
       "    <tr>\n",
       "      <th>0</th>\n",
       "      <td>50% DC, 50% OFFICE</td>\n",
       "      <td>2.0</td>\n",
       "      <td>1 - Office</td>\n",
       "      <td>Office</td>\n",
       "      <td>Office</td>\n",
       "      <td>match</td>\n",
       "    </tr>\n",
       "    <tr>\n",
       "      <th>1</th>\n",
       "      <td>Academic/Office</td>\n",
       "      <td>1.0</td>\n",
       "      <td>1 - Office</td>\n",
       "      <td>Education</td>\n",
       "      <td>Office</td>\n",
       "      <td>not match</td>\n",
       "    </tr>\n",
       "    <tr>\n",
       "      <th>2</th>\n",
       "      <td>ADM</td>\n",
       "      <td>229.0</td>\n",
       "      <td>1 - Office</td>\n",
       "      <td>Office</td>\n",
       "      <td>Office</td>\n",
       "      <td>match</td>\n",
       "    </tr>\n",
       "    <tr>\n",
       "      <th>3</th>\n",
       "      <td>Admin</td>\n",
       "      <td>865.0</td>\n",
       "      <td>1 - Office</td>\n",
       "      <td>Office</td>\n",
       "      <td>Office</td>\n",
       "      <td>match</td>\n",
       "    </tr>\n",
       "    <tr>\n",
       "      <th>4</th>\n",
       "      <td>ADMIN</td>\n",
       "      <td>304.0</td>\n",
       "      <td>1 - Office</td>\n",
       "      <td>Office</td>\n",
       "      <td>Office</td>\n",
       "      <td>match</td>\n",
       "    </tr>\n",
       "  </tbody>\n",
       "</table>\n",
       "</div>"
      ],
      "text/plain": [
       "    EDP_Property_type  Count myData_Property_manual_selection  \\\n",
       "0  50% DC, 50% OFFICE    2.0                       1 - Office   \n",
       "1     Academic/Office    1.0                       1 - Office   \n",
       "2                 ADM  229.0                       1 - Office   \n",
       "3               Admin  865.0                       1 - Office   \n",
       "4               ADMIN  304.0                       1 - Office   \n",
       "\n",
       "  result_from_ML_0403_Ravi columnC comparison  \n",
       "0                   Office  Office      match  \n",
       "1                Education  Office  not match  \n",
       "2                   Office  Office      match  \n",
       "3                   Office  Office      match  \n",
       "4                   Office  Office      match  "
      ]
     },
     "execution_count": 22,
     "metadata": {},
     "output_type": "execute_result"
    }
   ],
   "source": [
    "comparison_data.head()"
   ]
  },
  {
   "cell_type": "code",
   "execution_count": 28,
   "id": "e7749a3b",
   "metadata": {
    "ExecuteTime": {
     "end_time": "2023-04-06T02:28:34.941866Z",
     "start_time": "2023-04-06T02:28:34.923952Z"
    }
   },
   "outputs": [
    {
     "data": {
      "text/html": [
       "<div>\n",
       "<style scoped>\n",
       "    .dataframe tbody tr th:only-of-type {\n",
       "        vertical-align: middle;\n",
       "    }\n",
       "\n",
       "    .dataframe tbody tr th {\n",
       "        vertical-align: top;\n",
       "    }\n",
       "\n",
       "    .dataframe thead th {\n",
       "        text-align: right;\n",
       "    }\n",
       "</style>\n",
       "<table border=\"1\" class=\"dataframe\">\n",
       "  <thead>\n",
       "    <tr style=\"text-align: right;\">\n",
       "      <th></th>\n",
       "      <th>EDP_Property_type</th>\n",
       "      <th>Count</th>\n",
       "      <th>myData_Property_manual_selection</th>\n",
       "      <th>result_from_ML_0403_Ravi</th>\n",
       "      <th>columnC</th>\n",
       "      <th>comparison</th>\n",
       "    </tr>\n",
       "  </thead>\n",
       "  <tbody>\n",
       "    <tr>\n",
       "      <th>1</th>\n",
       "      <td>Academic/Office</td>\n",
       "      <td>1.0</td>\n",
       "      <td>1 - Office</td>\n",
       "      <td>Education</td>\n",
       "      <td>Office</td>\n",
       "      <td>not match</td>\n",
       "    </tr>\n",
       "    <tr>\n",
       "      <th>8</th>\n",
       "      <td>administration, production area and warehouse</td>\n",
       "      <td>1.0</td>\n",
       "      <td>1 - Office</td>\n",
       "      <td>Industrial &amp; Logistics</td>\n",
       "      <td>Office</td>\n",
       "      <td>not match</td>\n",
       "    </tr>\n",
       "    <tr>\n",
       "      <th>9</th>\n",
       "      <td>Administrative</td>\n",
       "      <td>22.0</td>\n",
       "      <td>1 - Office</td>\n",
       "      <td>Public Institution</td>\n",
       "      <td>Office</td>\n",
       "      <td>not match</td>\n",
       "    </tr>\n",
       "    <tr>\n",
       "      <th>18</th>\n",
       "      <td>Parking</td>\n",
       "      <td>1352.0</td>\n",
       "      <td>1 - Office</td>\n",
       "      <td>Special Purpose</td>\n",
       "      <td>Office</td>\n",
       "      <td>not match</td>\n",
       "    </tr>\n",
       "    <tr>\n",
       "      <th>28</th>\n",
       "      <td>Parking Garage</td>\n",
       "      <td>148.0</td>\n",
       "      <td>1 - Office</td>\n",
       "      <td>Special Purpose</td>\n",
       "      <td>Office</td>\n",
       "      <td>not match</td>\n",
       "    </tr>\n",
       "    <tr>\n",
       "      <th>...</th>\n",
       "      <td>...</td>\n",
       "      <td>...</td>\n",
       "      <td>...</td>\n",
       "      <td>...</td>\n",
       "      <td>...</td>\n",
       "      <td>...</td>\n",
       "    </tr>\n",
       "    <tr>\n",
       "      <th>465</th>\n",
       "      <td>Laboratory, General</td>\n",
       "      <td>45.0</td>\n",
       "      <td>9 - Healthcare</td>\n",
       "      <td>Laboratory</td>\n",
       "      <td>Healthcare</td>\n",
       "      <td>not match</td>\n",
       "    </tr>\n",
       "    <tr>\n",
       "      <th>467</th>\n",
       "      <td>HOS</td>\n",
       "      <td>7.0</td>\n",
       "      <td>9 - Healthcare</td>\n",
       "      <td>Office</td>\n",
       "      <td>Healthcare</td>\n",
       "      <td>not match</td>\n",
       "    </tr>\n",
       "    <tr>\n",
       "      <th>473</th>\n",
       "      <td>Medical Office Space</td>\n",
       "      <td>59.0</td>\n",
       "      <td>9 - Healthcare</td>\n",
       "      <td>Office</td>\n",
       "      <td>Healthcare</td>\n",
       "      <td>not match</td>\n",
       "    </tr>\n",
       "    <tr>\n",
       "      <th>474</th>\n",
       "      <td>Office/Clinical</td>\n",
       "      <td>3.0</td>\n",
       "      <td>9 - Healthcare</td>\n",
       "      <td>Office</td>\n",
       "      <td>Healthcare</td>\n",
       "      <td>not match</td>\n",
       "    </tr>\n",
       "    <tr>\n",
       "      <th>477</th>\n",
       "      <td>Laboratory</td>\n",
       "      <td>4.0</td>\n",
       "      <td>9 - Healthcare</td>\n",
       "      <td>Laboratory</td>\n",
       "      <td>Healthcare</td>\n",
       "      <td>not match</td>\n",
       "    </tr>\n",
       "  </tbody>\n",
       "</table>\n",
       "<p>171 rows × 6 columns</p>\n",
       "</div>"
      ],
      "text/plain": [
       "                                 EDP_Property_type   Count  \\\n",
       "1                                  Academic/Office     1.0   \n",
       "8    administration, production area and warehouse     1.0   \n",
       "9                                   Administrative    22.0   \n",
       "18                                         Parking  1352.0   \n",
       "28                                  Parking Garage   148.0   \n",
       "..                                             ...     ...   \n",
       "465                            Laboratory, General    45.0   \n",
       "467                                            HOS     7.0   \n",
       "473                           Medical Office Space    59.0   \n",
       "474                                Office/Clinical     3.0   \n",
       "477                                     Laboratory     4.0   \n",
       "\n",
       "    myData_Property_manual_selection result_from_ML_0403_Ravi     columnC  \\\n",
       "1                         1 - Office                Education      Office   \n",
       "8                         1 - Office   Industrial & Logistics      Office   \n",
       "9                         1 - Office       Public Institution      Office   \n",
       "18                        1 - Office          Special Purpose      Office   \n",
       "28                        1 - Office          Special Purpose      Office   \n",
       "..                               ...                      ...         ...   \n",
       "465                   9 - Healthcare               Laboratory  Healthcare   \n",
       "467                   9 - Healthcare                   Office  Healthcare   \n",
       "473                   9 - Healthcare                   Office  Healthcare   \n",
       "474                   9 - Healthcare                   Office  Healthcare   \n",
       "477                   9 - Healthcare               Laboratory  Healthcare   \n",
       "\n",
       "    comparison  \n",
       "1    not match  \n",
       "8    not match  \n",
       "9    not match  \n",
       "18   not match  \n",
       "28   not match  \n",
       "..         ...  \n",
       "465  not match  \n",
       "467  not match  \n",
       "473  not match  \n",
       "474  not match  \n",
       "477  not match  \n",
       "\n",
       "[171 rows x 6 columns]"
      ]
     },
     "execution_count": 28,
     "metadata": {},
     "output_type": "execute_result"
    }
   ],
   "source": [
    "comparison_data[comparison_data['comparison']=='not match']"
   ]
  },
  {
   "cell_type": "code",
   "execution_count": 29,
   "id": "0821cb8f",
   "metadata": {
    "ExecuteTime": {
     "end_time": "2023-04-06T02:28:36.603966Z",
     "start_time": "2023-04-06T02:28:36.599641Z"
    }
   },
   "outputs": [
    {
     "data": {
      "text/plain": [
       "(824, 6)"
      ]
     },
     "execution_count": 29,
     "metadata": {},
     "output_type": "execute_result"
    }
   ],
   "source": [
    "comparison_data.shape"
   ]
  },
  {
   "cell_type": "code",
   "execution_count": 30,
   "id": "b19ae83d",
   "metadata": {
    "ExecuteTime": {
     "end_time": "2023-04-06T02:28:36.818742Z",
     "start_time": "2023-04-06T02:28:36.814794Z"
    }
   },
   "outputs": [
    {
     "data": {
      "text/plain": [
       "0.7924757281553398"
      ]
     },
     "execution_count": 30,
     "metadata": {},
     "output_type": "execute_result"
    }
   ],
   "source": [
    "accuracy = 1 - (171/824)\n",
    "accuracy"
   ]
  },
  {
   "cell_type": "code",
   "execution_count": 31,
   "id": "0d77caac",
   "metadata": {
    "ExecuteTime": {
     "end_time": "2023-04-06T02:28:45.177898Z",
     "start_time": "2023-04-06T02:28:45.172241Z"
    }
   },
   "outputs": [
    {
     "data": {
      "text/plain": [
       "'administration, production area and warehouse'"
      ]
     },
     "execution_count": 31,
     "metadata": {},
     "output_type": "execute_result"
    }
   ],
   "source": [
    "input_data = list(comparison_data[comparison_data['comparison']=='not match']['EDP_Property_type'])\n",
    "input_data[1]"
   ]
  },
  {
   "cell_type": "code",
   "execution_count": 34,
   "id": "af3ab7ca",
   "metadata": {
    "ExecuteTime": {
     "end_time": "2023-04-06T02:30:20.773007Z",
     "start_time": "2023-04-06T02:30:20.769037Z"
    }
   },
   "outputs": [],
   "source": [
    "def converter(label_list):\n",
    "    new_list = []\n",
    "    for val in label_list:\n",
    "        new_dict = {}\n",
    "        new_dict[le.inverse_transform([int(val['label'].split('_')[1])])[0]] = round(val['score']*100,2)\n",
    "        new_list.append(new_dict)\n",
    "    return new_list"
   ]
  },
  {
   "cell_type": "code",
   "execution_count": 36,
   "id": "f9a8d160",
   "metadata": {
    "ExecuteTime": {
     "end_time": "2023-04-06T02:32:57.836329Z",
     "start_time": "2023-04-06T02:32:54.512164Z"
    }
   },
   "outputs": [
    {
     "name": "stderr",
     "output_type": "stream",
     "text": [
      "<ipython-input-36-3b73a293886f>:2: SettingWithCopyWarning: \n",
      "A value is trying to be set on a copy of a slice from a DataFrame.\n",
      "Try using .loc[row_indexer,col_indexer] = value instead\n",
      "\n",
      "See the caveats in the documentation: https://pandas.pydata.org/pandas-docs/stable/user_guide/indexing.html#returning-a-view-versus-a-copy\n",
      "  multiple_predictions['all_predictions'] = multiple_predictions['EDP_Property_type'].apply(lambda x:converter(sorted(pipe(x)[0], key=lambda item: item[\"score\"], reverse=True)[:5]))\n"
     ]
    },
    {
     "data": {
      "text/html": [
       "<div>\n",
       "<style scoped>\n",
       "    .dataframe tbody tr th:only-of-type {\n",
       "        vertical-align: middle;\n",
       "    }\n",
       "\n",
       "    .dataframe tbody tr th {\n",
       "        vertical-align: top;\n",
       "    }\n",
       "\n",
       "    .dataframe thead th {\n",
       "        text-align: right;\n",
       "    }\n",
       "</style>\n",
       "<table border=\"1\" class=\"dataframe\">\n",
       "  <thead>\n",
       "    <tr style=\"text-align: right;\">\n",
       "      <th></th>\n",
       "      <th>EDP_Property_type</th>\n",
       "      <th>Count</th>\n",
       "      <th>myData_Property_manual_selection</th>\n",
       "      <th>result_from_ML_0403_Ravi</th>\n",
       "      <th>columnC</th>\n",
       "      <th>comparison</th>\n",
       "      <th>all_predictions</th>\n",
       "    </tr>\n",
       "  </thead>\n",
       "  <tbody>\n",
       "    <tr>\n",
       "      <th>1</th>\n",
       "      <td>Academic/Office</td>\n",
       "      <td>1.0</td>\n",
       "      <td>1 - Office</td>\n",
       "      <td>Education</td>\n",
       "      <td>Office</td>\n",
       "      <td>not match</td>\n",
       "      <td>[{'Education': 37.48}, {'Office': 19.95}, {'Pu...</td>\n",
       "    </tr>\n",
       "    <tr>\n",
       "      <th>8</th>\n",
       "      <td>administration, production area and warehouse</td>\n",
       "      <td>1.0</td>\n",
       "      <td>1 - Office</td>\n",
       "      <td>Industrial &amp; Logistics</td>\n",
       "      <td>Office</td>\n",
       "      <td>not match</td>\n",
       "      <td>[{'Industrial &amp; Logistics': 94.31}, {'Office':...</td>\n",
       "    </tr>\n",
       "    <tr>\n",
       "      <th>9</th>\n",
       "      <td>Administrative</td>\n",
       "      <td>22.0</td>\n",
       "      <td>1 - Office</td>\n",
       "      <td>Public Institution</td>\n",
       "      <td>Office</td>\n",
       "      <td>not match</td>\n",
       "      <td>[{'Public Institution': 50.33}, {'Office': 36....</td>\n",
       "    </tr>\n",
       "    <tr>\n",
       "      <th>18</th>\n",
       "      <td>Parking</td>\n",
       "      <td>1352.0</td>\n",
       "      <td>1 - Office</td>\n",
       "      <td>Special Purpose</td>\n",
       "      <td>Office</td>\n",
       "      <td>not match</td>\n",
       "      <td>[{'Special Purpose': 97.75}, {'Office': 0.31},...</td>\n",
       "    </tr>\n",
       "    <tr>\n",
       "      <th>28</th>\n",
       "      <td>Parking Garage</td>\n",
       "      <td>148.0</td>\n",
       "      <td>1 - Office</td>\n",
       "      <td>Special Purpose</td>\n",
       "      <td>Office</td>\n",
       "      <td>not match</td>\n",
       "      <td>[{'Special Purpose': 97.86}, {'Industrial &amp; Lo...</td>\n",
       "    </tr>\n",
       "    <tr>\n",
       "      <th>...</th>\n",
       "      <td>...</td>\n",
       "      <td>...</td>\n",
       "      <td>...</td>\n",
       "      <td>...</td>\n",
       "      <td>...</td>\n",
       "      <td>...</td>\n",
       "      <td>...</td>\n",
       "    </tr>\n",
       "    <tr>\n",
       "      <th>465</th>\n",
       "      <td>Laboratory, General</td>\n",
       "      <td>45.0</td>\n",
       "      <td>9 - Healthcare</td>\n",
       "      <td>Laboratory</td>\n",
       "      <td>Healthcare</td>\n",
       "      <td>not match</td>\n",
       "      <td>[{'Laboratory': 92.69}, {'Industrial &amp; Logisti...</td>\n",
       "    </tr>\n",
       "    <tr>\n",
       "      <th>467</th>\n",
       "      <td>HOS</td>\n",
       "      <td>7.0</td>\n",
       "      <td>9 - Healthcare</td>\n",
       "      <td>Office</td>\n",
       "      <td>Healthcare</td>\n",
       "      <td>not match</td>\n",
       "      <td>[{'Office': 70.87}, {'Special Purpose': 6.3}, ...</td>\n",
       "    </tr>\n",
       "    <tr>\n",
       "      <th>473</th>\n",
       "      <td>Medical Office Space</td>\n",
       "      <td>59.0</td>\n",
       "      <td>9 - Healthcare</td>\n",
       "      <td>Office</td>\n",
       "      <td>Healthcare</td>\n",
       "      <td>not match</td>\n",
       "      <td>[{'Office': 97.33}, {'Special Purpose': 0.42},...</td>\n",
       "    </tr>\n",
       "    <tr>\n",
       "      <th>474</th>\n",
       "      <td>Office/Clinical</td>\n",
       "      <td>3.0</td>\n",
       "      <td>9 - Healthcare</td>\n",
       "      <td>Office</td>\n",
       "      <td>Healthcare</td>\n",
       "      <td>not match</td>\n",
       "      <td>[{'Office': 97.77}, {'Public Institution': 0.3...</td>\n",
       "    </tr>\n",
       "    <tr>\n",
       "      <th>477</th>\n",
       "      <td>Laboratory</td>\n",
       "      <td>4.0</td>\n",
       "      <td>9 - Healthcare</td>\n",
       "      <td>Laboratory</td>\n",
       "      <td>Healthcare</td>\n",
       "      <td>not match</td>\n",
       "      <td>[{'Laboratory': 92.81}, {'Data Center': 1.01},...</td>\n",
       "    </tr>\n",
       "  </tbody>\n",
       "</table>\n",
       "<p>171 rows × 7 columns</p>\n",
       "</div>"
      ],
      "text/plain": [
       "                                 EDP_Property_type   Count  \\\n",
       "1                                  Academic/Office     1.0   \n",
       "8    administration, production area and warehouse     1.0   \n",
       "9                                   Administrative    22.0   \n",
       "18                                         Parking  1352.0   \n",
       "28                                  Parking Garage   148.0   \n",
       "..                                             ...     ...   \n",
       "465                            Laboratory, General    45.0   \n",
       "467                                            HOS     7.0   \n",
       "473                           Medical Office Space    59.0   \n",
       "474                                Office/Clinical     3.0   \n",
       "477                                     Laboratory     4.0   \n",
       "\n",
       "    myData_Property_manual_selection result_from_ML_0403_Ravi     columnC  \\\n",
       "1                         1 - Office                Education      Office   \n",
       "8                         1 - Office   Industrial & Logistics      Office   \n",
       "9                         1 - Office       Public Institution      Office   \n",
       "18                        1 - Office          Special Purpose      Office   \n",
       "28                        1 - Office          Special Purpose      Office   \n",
       "..                               ...                      ...         ...   \n",
       "465                   9 - Healthcare               Laboratory  Healthcare   \n",
       "467                   9 - Healthcare                   Office  Healthcare   \n",
       "473                   9 - Healthcare                   Office  Healthcare   \n",
       "474                   9 - Healthcare                   Office  Healthcare   \n",
       "477                   9 - Healthcare               Laboratory  Healthcare   \n",
       "\n",
       "    comparison                                    all_predictions  \n",
       "1    not match  [{'Education': 37.48}, {'Office': 19.95}, {'Pu...  \n",
       "8    not match  [{'Industrial & Logistics': 94.31}, {'Office':...  \n",
       "9    not match  [{'Public Institution': 50.33}, {'Office': 36....  \n",
       "18   not match  [{'Special Purpose': 97.75}, {'Office': 0.31},...  \n",
       "28   not match  [{'Special Purpose': 97.86}, {'Industrial & Lo...  \n",
       "..         ...                                                ...  \n",
       "465  not match  [{'Laboratory': 92.69}, {'Industrial & Logisti...  \n",
       "467  not match  [{'Office': 70.87}, {'Special Purpose': 6.3}, ...  \n",
       "473  not match  [{'Office': 97.33}, {'Special Purpose': 0.42},...  \n",
       "474  not match  [{'Office': 97.77}, {'Public Institution': 0.3...  \n",
       "477  not match  [{'Laboratory': 92.81}, {'Data Center': 1.01},...  \n",
       "\n",
       "[171 rows x 7 columns]"
      ]
     },
     "execution_count": 36,
     "metadata": {},
     "output_type": "execute_result"
    }
   ],
   "source": [
    "multiple_predictions = comparison_data[comparison_data['comparison']=='not match']\n",
    "multiple_predictions['all_predictions'] = multiple_predictions['EDP_Property_type'].apply(lambda x:converter(sorted(pipe(x)[0], key=lambda item: item[\"score\"], reverse=True)[:5]))\n",
    "multiple_predictions"
   ]
  },
  {
   "cell_type": "code",
   "execution_count": 37,
   "id": "accb54f0",
   "metadata": {
    "ExecuteTime": {
     "end_time": "2023-04-06T02:33:36.052153Z",
     "start_time": "2023-04-06T02:33:36.032927Z"
    }
   },
   "outputs": [
    {
     "data": {
      "text/html": [
       "<div>\n",
       "<style scoped>\n",
       "    .dataframe tbody tr th:only-of-type {\n",
       "        vertical-align: middle;\n",
       "    }\n",
       "\n",
       "    .dataframe tbody tr th {\n",
       "        vertical-align: top;\n",
       "    }\n",
       "\n",
       "    .dataframe thead th {\n",
       "        text-align: right;\n",
       "    }\n",
       "</style>\n",
       "<table border=\"1\" class=\"dataframe\">\n",
       "  <thead>\n",
       "    <tr style=\"text-align: right;\">\n",
       "      <th></th>\n",
       "      <th>EDP_Property_type</th>\n",
       "      <th>Count</th>\n",
       "      <th>myData_Property_manual_selection</th>\n",
       "      <th>result_from_ML_0403_Ravi</th>\n",
       "      <th>columnC</th>\n",
       "      <th>comparison</th>\n",
       "      <th>all_predictions</th>\n",
       "    </tr>\n",
       "  </thead>\n",
       "  <tbody>\n",
       "    <tr>\n",
       "      <th>1</th>\n",
       "      <td>Academic/Office</td>\n",
       "      <td>1.0</td>\n",
       "      <td>1 - Office</td>\n",
       "      <td>Education</td>\n",
       "      <td>Office</td>\n",
       "      <td>not match</td>\n",
       "      <td>{'Education': 37.48}</td>\n",
       "    </tr>\n",
       "    <tr>\n",
       "      <th>1</th>\n",
       "      <td>Academic/Office</td>\n",
       "      <td>1.0</td>\n",
       "      <td>1 - Office</td>\n",
       "      <td>Education</td>\n",
       "      <td>Office</td>\n",
       "      <td>not match</td>\n",
       "      <td>{'Office': 19.95}</td>\n",
       "    </tr>\n",
       "    <tr>\n",
       "      <th>1</th>\n",
       "      <td>Academic/Office</td>\n",
       "      <td>1.0</td>\n",
       "      <td>1 - Office</td>\n",
       "      <td>Education</td>\n",
       "      <td>Office</td>\n",
       "      <td>not match</td>\n",
       "      <td>{'Public Institution': 10.63}</td>\n",
       "    </tr>\n",
       "    <tr>\n",
       "      <th>1</th>\n",
       "      <td>Academic/Office</td>\n",
       "      <td>1.0</td>\n",
       "      <td>1 - Office</td>\n",
       "      <td>Education</td>\n",
       "      <td>Office</td>\n",
       "      <td>not match</td>\n",
       "      <td>{'Senior Housing': 9.62}</td>\n",
       "    </tr>\n",
       "    <tr>\n",
       "      <th>1</th>\n",
       "      <td>Academic/Office</td>\n",
       "      <td>1.0</td>\n",
       "      <td>1 - Office</td>\n",
       "      <td>Education</td>\n",
       "      <td>Office</td>\n",
       "      <td>not match</td>\n",
       "      <td>{'Laboratory': 5.52}</td>\n",
       "    </tr>\n",
       "  </tbody>\n",
       "</table>\n",
       "</div>"
      ],
      "text/plain": [
       "  EDP_Property_type  Count myData_Property_manual_selection  \\\n",
       "1   Academic/Office    1.0                       1 - Office   \n",
       "1   Academic/Office    1.0                       1 - Office   \n",
       "1   Academic/Office    1.0                       1 - Office   \n",
       "1   Academic/Office    1.0                       1 - Office   \n",
       "1   Academic/Office    1.0                       1 - Office   \n",
       "\n",
       "  result_from_ML_0403_Ravi columnC comparison                all_predictions  \n",
       "1                Education  Office  not match           {'Education': 37.48}  \n",
       "1                Education  Office  not match              {'Office': 19.95}  \n",
       "1                Education  Office  not match  {'Public Institution': 10.63}  \n",
       "1                Education  Office  not match       {'Senior Housing': 9.62}  \n",
       "1                Education  Office  not match           {'Laboratory': 5.52}  "
      ]
     },
     "execution_count": 37,
     "metadata": {},
     "output_type": "execute_result"
    }
   ],
   "source": [
    "multiple_predictions = multiple_predictions.explode('all_predictions')\n",
    "multiple_predictions.head()"
   ]
  },
  {
   "cell_type": "code",
   "execution_count": 38,
   "id": "93db7439",
   "metadata": {
    "ExecuteTime": {
     "end_time": "2023-04-06T02:33:57.522931Z",
     "start_time": "2023-04-06T02:33:57.501962Z"
    }
   },
   "outputs": [
    {
     "data": {
      "text/html": [
       "<div>\n",
       "<style scoped>\n",
       "    .dataframe tbody tr th:only-of-type {\n",
       "        vertical-align: middle;\n",
       "    }\n",
       "\n",
       "    .dataframe tbody tr th {\n",
       "        vertical-align: top;\n",
       "    }\n",
       "\n",
       "    .dataframe thead th {\n",
       "        text-align: right;\n",
       "    }\n",
       "</style>\n",
       "<table border=\"1\" class=\"dataframe\">\n",
       "  <thead>\n",
       "    <tr style=\"text-align: right;\">\n",
       "      <th></th>\n",
       "      <th>EDP_Property_type</th>\n",
       "      <th>Count</th>\n",
       "      <th>myData_Property_manual_selection</th>\n",
       "      <th>result_from_ML_0403_Ravi</th>\n",
       "      <th>columnC</th>\n",
       "      <th>comparison</th>\n",
       "      <th>all_predictions</th>\n",
       "      <th>predicted_category</th>\n",
       "      <th>prediction_probability</th>\n",
       "    </tr>\n",
       "  </thead>\n",
       "  <tbody>\n",
       "    <tr>\n",
       "      <th>1</th>\n",
       "      <td>Academic/Office</td>\n",
       "      <td>1.0</td>\n",
       "      <td>1 - Office</td>\n",
       "      <td>Education</td>\n",
       "      <td>Office</td>\n",
       "      <td>not match</td>\n",
       "      <td>{'Education': 37.48}</td>\n",
       "      <td>(Education)</td>\n",
       "      <td>(37.48)</td>\n",
       "    </tr>\n",
       "    <tr>\n",
       "      <th>1</th>\n",
       "      <td>Academic/Office</td>\n",
       "      <td>1.0</td>\n",
       "      <td>1 - Office</td>\n",
       "      <td>Education</td>\n",
       "      <td>Office</td>\n",
       "      <td>not match</td>\n",
       "      <td>{'Office': 19.95}</td>\n",
       "      <td>(Office)</td>\n",
       "      <td>(19.95)</td>\n",
       "    </tr>\n",
       "    <tr>\n",
       "      <th>1</th>\n",
       "      <td>Academic/Office</td>\n",
       "      <td>1.0</td>\n",
       "      <td>1 - Office</td>\n",
       "      <td>Education</td>\n",
       "      <td>Office</td>\n",
       "      <td>not match</td>\n",
       "      <td>{'Public Institution': 10.63}</td>\n",
       "      <td>(Public Institution)</td>\n",
       "      <td>(10.63)</td>\n",
       "    </tr>\n",
       "    <tr>\n",
       "      <th>1</th>\n",
       "      <td>Academic/Office</td>\n",
       "      <td>1.0</td>\n",
       "      <td>1 - Office</td>\n",
       "      <td>Education</td>\n",
       "      <td>Office</td>\n",
       "      <td>not match</td>\n",
       "      <td>{'Senior Housing': 9.62}</td>\n",
       "      <td>(Senior Housing)</td>\n",
       "      <td>(9.62)</td>\n",
       "    </tr>\n",
       "    <tr>\n",
       "      <th>1</th>\n",
       "      <td>Academic/Office</td>\n",
       "      <td>1.0</td>\n",
       "      <td>1 - Office</td>\n",
       "      <td>Education</td>\n",
       "      <td>Office</td>\n",
       "      <td>not match</td>\n",
       "      <td>{'Laboratory': 5.52}</td>\n",
       "      <td>(Laboratory)</td>\n",
       "      <td>(5.52)</td>\n",
       "    </tr>\n",
       "  </tbody>\n",
       "</table>\n",
       "</div>"
      ],
      "text/plain": [
       "  EDP_Property_type  Count myData_Property_manual_selection  \\\n",
       "1   Academic/Office    1.0                       1 - Office   \n",
       "1   Academic/Office    1.0                       1 - Office   \n",
       "1   Academic/Office    1.0                       1 - Office   \n",
       "1   Academic/Office    1.0                       1 - Office   \n",
       "1   Academic/Office    1.0                       1 - Office   \n",
       "\n",
       "  result_from_ML_0403_Ravi columnC comparison                all_predictions  \\\n",
       "1                Education  Office  not match           {'Education': 37.48}   \n",
       "1                Education  Office  not match              {'Office': 19.95}   \n",
       "1                Education  Office  not match  {'Public Institution': 10.63}   \n",
       "1                Education  Office  not match       {'Senior Housing': 9.62}   \n",
       "1                Education  Office  not match           {'Laboratory': 5.52}   \n",
       "\n",
       "     predicted_category prediction_probability  \n",
       "1           (Education)                (37.48)  \n",
       "1              (Office)                (19.95)  \n",
       "1  (Public Institution)                (10.63)  \n",
       "1      (Senior Housing)                 (9.62)  \n",
       "1          (Laboratory)                 (5.52)  "
      ]
     },
     "execution_count": 38,
     "metadata": {},
     "output_type": "execute_result"
    }
   ],
   "source": [
    "multiple_predictions['predicted_category'] = multiple_predictions['all_predictions'].apply(lambda x:x.keys())\n",
    "multiple_predictions['prediction_probability'] = multiple_predictions['all_predictions'].apply(lambda x:x.values())\n",
    "multiple_predictions.head()"
   ]
  },
  {
   "cell_type": "code",
   "execution_count": 39,
   "id": "d89c14b6",
   "metadata": {
    "ExecuteTime": {
     "end_time": "2023-04-06T02:36:36.078207Z",
     "start_time": "2023-04-06T02:36:35.955106Z"
    }
   },
   "outputs": [],
   "source": [
    "multiple_predictions[['EDP_Property_type', 'myData_Property_manual_selection','result_from_ML_0403_Ravi','comparison','predicted_category','prediction_probability']].to_excel(\"EDP_Failed_top_5_0505.xlsx\", index=False)"
   ]
  },
  {
   "cell_type": "code",
   "execution_count": null,
   "id": "642be98d",
   "metadata": {},
   "outputs": [],
   "source": []
  },
  {
   "cell_type": "code",
   "execution_count": null,
   "id": "18e692ef",
   "metadata": {},
   "outputs": [],
   "source": []
  },
  {
   "cell_type": "code",
   "execution_count": null,
   "id": "fb987cd5",
   "metadata": {},
   "outputs": [],
   "source": []
  },
  {
   "cell_type": "code",
   "execution_count": null,
   "id": "13039b25",
   "metadata": {},
   "outputs": [],
   "source": [
    "### Temporary cells end, uncomment next one for pipeline"
   ]
  },
  {
   "cell_type": "code",
   "execution_count": null,
   "id": "031ffb59",
   "metadata": {},
   "outputs": [],
   "source": [
    "input_data = list(pd.read_csv(\"DATA/EDP_Data_040323.csv\").iloc[:,0])\n",
    "input_data[1]"
   ]
  },
  {
   "cell_type": "code",
   "execution_count": 10,
   "id": "3969bf1f",
   "metadata": {
    "ExecuteTime": {
     "end_time": "2023-04-03T15:19:50.324629Z",
     "start_time": "2023-04-03T15:19:34.290825Z"
    }
   },
   "outputs": [
    {
     "name": "stdout",
     "output_type": "stream",
     "text": [
      "nan\n"
     ]
    }
   ],
   "source": [
    "results = []\n",
    "for val in input_data:\n",
    "    try:\n",
    "        sorted_labels = le.inverse_transform([int(sorted(pipe(val)[0], key=lambda item: item[\"score\"], reverse=True)[0]['label'].split(\"_\")[1])])[0]\n",
    "        results.append(sorted_labels)\n",
    "    except Exception as e:\n",
    "        print(val)\n",
    "        results.append(\"Not found\")"
   ]
  },
  {
   "cell_type": "code",
   "execution_count": 11,
   "id": "45c12b26",
   "metadata": {
    "ExecuteTime": {
     "end_time": "2023-04-03T15:19:50.331013Z",
     "start_time": "2023-04-03T15:19:50.326890Z"
    }
   },
   "outputs": [
    {
     "data": {
      "text/plain": [
       "824"
      ]
     },
     "execution_count": 11,
     "metadata": {},
     "output_type": "execute_result"
    }
   ],
   "source": [
    "len(results)"
   ]
  },
  {
   "cell_type": "code",
   "execution_count": 13,
   "id": "99854294",
   "metadata": {
    "ExecuteTime": {
     "end_time": "2023-04-03T15:19:56.714091Z",
     "start_time": "2023-04-03T15:19:56.709836Z"
    }
   },
   "outputs": [
    {
     "data": {
      "text/plain": [
       "824"
      ]
     },
     "execution_count": 13,
     "metadata": {},
     "output_type": "execute_result"
    }
   ],
   "source": [
    "len(input_data)"
   ]
  },
  {
   "cell_type": "code",
   "execution_count": 14,
   "id": "4b10ae07",
   "metadata": {
    "ExecuteTime": {
     "end_time": "2023-04-03T15:20:06.624791Z",
     "start_time": "2023-04-03T15:20:06.558716Z"
    }
   },
   "outputs": [],
   "source": [
    "new_data_set = pd.DataFrame([input_data,results]).T.rename(columns={0:\"Input_data\",1:\"Category\"})\n",
    "new_data_set.to_csv(\"DATA/EDP_data_results_040323.csv\", index=False)"
   ]
  },
  {
   "cell_type": "code",
   "execution_count": null,
   "id": "7fa7d857",
   "metadata": {},
   "outputs": [],
   "source": []
  }
 ],
 "metadata": {
  "kernelspec": {
   "display_name": "Python 3",
   "language": "python",
   "name": "python3"
  },
  "language_info": {
   "codemirror_mode": {
    "name": "ipython",
    "version": 3
   },
   "file_extension": ".py",
   "mimetype": "text/x-python",
   "name": "python",
   "nbconvert_exporter": "python",
   "pygments_lexer": "ipython3",
   "version": "3.8.10"
  },
  "toc": {
   "base_numbering": 1,
   "nav_menu": {},
   "number_sections": false,
   "sideBar": true,
   "skip_h1_title": false,
   "title_cell": "Table of Contents",
   "title_sidebar": "Contents",
   "toc_cell": false,
   "toc_position": {},
   "toc_section_display": true,
   "toc_window_display": false
  }
 },
 "nbformat": 4,
 "nbformat_minor": 5
}

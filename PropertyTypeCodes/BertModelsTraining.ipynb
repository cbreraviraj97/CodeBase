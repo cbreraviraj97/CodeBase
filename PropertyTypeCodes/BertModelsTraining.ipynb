{
 "cells": [
  {
   "cell_type": "code",
   "execution_count": 1,
   "id": "60bbac5a",
   "metadata": {
    "ExecuteTime": {
     "end_time": "2023-04-21T03:31:03.571012Z",
     "start_time": "2023-04-21T03:30:58.225243Z"
    }
   },
   "outputs": [
    {
     "name": "stderr",
     "output_type": "stream",
     "text": [
      "Some weights of the model checkpoint at distilbert-base-uncased were not used when initializing DistilBertForSequenceClassification: ['vocab_transform.weight', 'vocab_projector.weight', 'vocab_layer_norm.bias', 'vocab_layer_norm.weight', 'vocab_transform.bias', 'vocab_projector.bias']\n",
      "- This IS expected if you are initializing DistilBertForSequenceClassification from the checkpoint of a model trained on another task or with another architecture (e.g. initializing a BertForSequenceClassification model from a BertForPreTraining model).\n",
      "- This IS NOT expected if you are initializing DistilBertForSequenceClassification from the checkpoint of a model that you expect to be exactly identical (initializing a BertForSequenceClassification model from a BertForSequenceClassification model).\n",
      "Some weights of DistilBertForSequenceClassification were not initialized from the model checkpoint at distilbert-base-uncased and are newly initialized: ['classifier.weight', 'pre_classifier.weight', 'pre_classifier.bias', 'classifier.bias']\n",
      "You should probably TRAIN this model on a down-stream task to be able to use it for predictions and inference.\n"
     ]
    },
    {
     "data": {
      "text/plain": [
       "DistilBertForSequenceClassification(\n",
       "  (distilbert): DistilBertModel(\n",
       "    (embeddings): Embeddings(\n",
       "      (word_embeddings): Embedding(30522, 768, padding_idx=0)\n",
       "      (position_embeddings): Embedding(512, 768)\n",
       "      (LayerNorm): LayerNorm((768,), eps=1e-12, elementwise_affine=True)\n",
       "      (dropout): Dropout(p=0.1, inplace=False)\n",
       "    )\n",
       "    (transformer): Transformer(\n",
       "      (layer): ModuleList(\n",
       "        (0): TransformerBlock(\n",
       "          (attention): MultiHeadSelfAttention(\n",
       "            (dropout): Dropout(p=0.1, inplace=False)\n",
       "            (q_lin): Linear(in_features=768, out_features=768, bias=True)\n",
       "            (k_lin): Linear(in_features=768, out_features=768, bias=True)\n",
       "            (v_lin): Linear(in_features=768, out_features=768, bias=True)\n",
       "            (out_lin): Linear(in_features=768, out_features=768, bias=True)\n",
       "          )\n",
       "          (sa_layer_norm): LayerNorm((768,), eps=1e-12, elementwise_affine=True)\n",
       "          (ffn): FFN(\n",
       "            (dropout): Dropout(p=0.1, inplace=False)\n",
       "            (lin1): Linear(in_features=768, out_features=3072, bias=True)\n",
       "            (lin2): Linear(in_features=3072, out_features=768, bias=True)\n",
       "            (activation): GELUActivation()\n",
       "          )\n",
       "          (output_layer_norm): LayerNorm((768,), eps=1e-12, elementwise_affine=True)\n",
       "        )\n",
       "        (1): TransformerBlock(\n",
       "          (attention): MultiHeadSelfAttention(\n",
       "            (dropout): Dropout(p=0.1, inplace=False)\n",
       "            (q_lin): Linear(in_features=768, out_features=768, bias=True)\n",
       "            (k_lin): Linear(in_features=768, out_features=768, bias=True)\n",
       "            (v_lin): Linear(in_features=768, out_features=768, bias=True)\n",
       "            (out_lin): Linear(in_features=768, out_features=768, bias=True)\n",
       "          )\n",
       "          (sa_layer_norm): LayerNorm((768,), eps=1e-12, elementwise_affine=True)\n",
       "          (ffn): FFN(\n",
       "            (dropout): Dropout(p=0.1, inplace=False)\n",
       "            (lin1): Linear(in_features=768, out_features=3072, bias=True)\n",
       "            (lin2): Linear(in_features=3072, out_features=768, bias=True)\n",
       "            (activation): GELUActivation()\n",
       "          )\n",
       "          (output_layer_norm): LayerNorm((768,), eps=1e-12, elementwise_affine=True)\n",
       "        )\n",
       "        (2): TransformerBlock(\n",
       "          (attention): MultiHeadSelfAttention(\n",
       "            (dropout): Dropout(p=0.1, inplace=False)\n",
       "            (q_lin): Linear(in_features=768, out_features=768, bias=True)\n",
       "            (k_lin): Linear(in_features=768, out_features=768, bias=True)\n",
       "            (v_lin): Linear(in_features=768, out_features=768, bias=True)\n",
       "            (out_lin): Linear(in_features=768, out_features=768, bias=True)\n",
       "          )\n",
       "          (sa_layer_norm): LayerNorm((768,), eps=1e-12, elementwise_affine=True)\n",
       "          (ffn): FFN(\n",
       "            (dropout): Dropout(p=0.1, inplace=False)\n",
       "            (lin1): Linear(in_features=768, out_features=3072, bias=True)\n",
       "            (lin2): Linear(in_features=3072, out_features=768, bias=True)\n",
       "            (activation): GELUActivation()\n",
       "          )\n",
       "          (output_layer_norm): LayerNorm((768,), eps=1e-12, elementwise_affine=True)\n",
       "        )\n",
       "        (3): TransformerBlock(\n",
       "          (attention): MultiHeadSelfAttention(\n",
       "            (dropout): Dropout(p=0.1, inplace=False)\n",
       "            (q_lin): Linear(in_features=768, out_features=768, bias=True)\n",
       "            (k_lin): Linear(in_features=768, out_features=768, bias=True)\n",
       "            (v_lin): Linear(in_features=768, out_features=768, bias=True)\n",
       "            (out_lin): Linear(in_features=768, out_features=768, bias=True)\n",
       "          )\n",
       "          (sa_layer_norm): LayerNorm((768,), eps=1e-12, elementwise_affine=True)\n",
       "          (ffn): FFN(\n",
       "            (dropout): Dropout(p=0.1, inplace=False)\n",
       "            (lin1): Linear(in_features=768, out_features=3072, bias=True)\n",
       "            (lin2): Linear(in_features=3072, out_features=768, bias=True)\n",
       "            (activation): GELUActivation()\n",
       "          )\n",
       "          (output_layer_norm): LayerNorm((768,), eps=1e-12, elementwise_affine=True)\n",
       "        )\n",
       "        (4): TransformerBlock(\n",
       "          (attention): MultiHeadSelfAttention(\n",
       "            (dropout): Dropout(p=0.1, inplace=False)\n",
       "            (q_lin): Linear(in_features=768, out_features=768, bias=True)\n",
       "            (k_lin): Linear(in_features=768, out_features=768, bias=True)\n",
       "            (v_lin): Linear(in_features=768, out_features=768, bias=True)\n",
       "            (out_lin): Linear(in_features=768, out_features=768, bias=True)\n",
       "          )\n",
       "          (sa_layer_norm): LayerNorm((768,), eps=1e-12, elementwise_affine=True)\n",
       "          (ffn): FFN(\n",
       "            (dropout): Dropout(p=0.1, inplace=False)\n",
       "            (lin1): Linear(in_features=768, out_features=3072, bias=True)\n",
       "            (lin2): Linear(in_features=3072, out_features=768, bias=True)\n",
       "            (activation): GELUActivation()\n",
       "          )\n",
       "          (output_layer_norm): LayerNorm((768,), eps=1e-12, elementwise_affine=True)\n",
       "        )\n",
       "        (5): TransformerBlock(\n",
       "          (attention): MultiHeadSelfAttention(\n",
       "            (dropout): Dropout(p=0.1, inplace=False)\n",
       "            (q_lin): Linear(in_features=768, out_features=768, bias=True)\n",
       "            (k_lin): Linear(in_features=768, out_features=768, bias=True)\n",
       "            (v_lin): Linear(in_features=768, out_features=768, bias=True)\n",
       "            (out_lin): Linear(in_features=768, out_features=768, bias=True)\n",
       "          )\n",
       "          (sa_layer_norm): LayerNorm((768,), eps=1e-12, elementwise_affine=True)\n",
       "          (ffn): FFN(\n",
       "            (dropout): Dropout(p=0.1, inplace=False)\n",
       "            (lin1): Linear(in_features=768, out_features=3072, bias=True)\n",
       "            (lin2): Linear(in_features=3072, out_features=768, bias=True)\n",
       "            (activation): GELUActivation()\n",
       "          )\n",
       "          (output_layer_norm): LayerNorm((768,), eps=1e-12, elementwise_affine=True)\n",
       "        )\n",
       "      )\n",
       "    )\n",
       "  )\n",
       "  (pre_classifier): Linear(in_features=768, out_features=768, bias=True)\n",
       "  (classifier): Linear(in_features=768, out_features=16, bias=True)\n",
       "  (dropout): Dropout(p=0.2, inplace=False)\n",
       ")"
      ]
     },
     "execution_count": 1,
     "metadata": {},
     "output_type": "execute_result"
    }
   ],
   "source": [
    "import pandas as pd\n",
    "from sklearn.preprocessing import LabelEncoder\n",
    "from transformers import DistilBertTokenizerFast\n",
    "from sklearn.model_selection import train_test_split\n",
    "import torch\n",
    "from torch.utils.data import DataLoader\n",
    "from transformers import DistilBertForSequenceClassification, AdamW, TextClassificationPipeline\n",
    "le = LabelEncoder()\n",
    "device = torch.device('cuda') if torch.cuda.is_available() else torch.device('cpu')\n",
    "tokenizer = DistilBertTokenizerFast.from_pretrained('distilbert-base-uncased')\n",
    "model = DistilBertForSequenceClassification.from_pretrained('distilbert-base-uncased', num_labels=16)\n",
    "model.to(device)"
   ]
  },
  {
   "cell_type": "code",
   "execution_count": 2,
   "id": "b90bae82",
   "metadata": {
    "ExecuteTime": {
     "end_time": "2023-04-21T03:31:03.577776Z",
     "start_time": "2023-04-21T03:31:03.573279Z"
    }
   },
   "outputs": [],
   "source": [
    "class DatasetBuilding(torch.utils.data.Dataset):\n",
    "    def __init__(self, encodings, labels):\n",
    "        self.encodings = encodings\n",
    "        self.labels = labels\n",
    "\n",
    "    def __getitem__(self, idx):\n",
    "        item = {key: torch.tensor(val[idx]) for key, val in self.encodings.items()}\n",
    "        item['labels'] = torch.tensor(self.labels[idx])\n",
    "        return item\n",
    "\n",
    "    def __len__(self):\n",
    "        return len(self.labels)"
   ]
  },
  {
   "cell_type": "code",
   "execution_count": 3,
   "id": "1d32e6b0",
   "metadata": {
    "ExecuteTime": {
     "end_time": "2023-04-21T03:31:11.214124Z",
     "start_time": "2023-04-21T03:31:11.211335Z"
    }
   },
   "outputs": [],
   "source": [
    "# config params\n",
    "data_path = \"DATA/Property Type ML model Training Data 20230413.xlsx\""
   ]
  },
  {
   "cell_type": "code",
   "execution_count": 4,
   "id": "e1f43e04",
   "metadata": {
    "ExecuteTime": {
     "end_time": "2023-04-21T03:31:12.394339Z",
     "start_time": "2023-04-21T03:31:12.171355Z"
    }
   },
   "outputs": [
    {
     "data": {
      "text/html": [
       "<div>\n",
       "<style scoped>\n",
       "    .dataframe tbody tr th:only-of-type {\n",
       "        vertical-align: middle;\n",
       "    }\n",
       "\n",
       "    .dataframe tbody tr th {\n",
       "        vertical-align: top;\n",
       "    }\n",
       "\n",
       "    .dataframe thead th {\n",
       "        text-align: right;\n",
       "    }\n",
       "</style>\n",
       "<table border=\"1\" class=\"dataframe\">\n",
       "  <thead>\n",
       "    <tr style=\"text-align: right;\">\n",
       "      <th></th>\n",
       "      <th>input</th>\n",
       "      <th>property_type</th>\n",
       "    </tr>\n",
       "  </thead>\n",
       "  <tbody>\n",
       "    <tr>\n",
       "      <th>0</th>\n",
       "      <td>Agribusiness</td>\n",
       "      <td>Agriculture</td>\n",
       "    </tr>\n",
       "    <tr>\n",
       "      <th>1</th>\n",
       "      <td>Agricultural</td>\n",
       "      <td>Agriculture</td>\n",
       "    </tr>\n",
       "    <tr>\n",
       "      <th>2</th>\n",
       "      <td>Agriculture</td>\n",
       "      <td>Agriculture</td>\n",
       "    </tr>\n",
       "    <tr>\n",
       "      <th>3</th>\n",
       "      <td>Agriculture - TBD</td>\n",
       "      <td>Agriculture</td>\n",
       "    </tr>\n",
       "    <tr>\n",
       "      <th>4</th>\n",
       "      <td>Aquaculture</td>\n",
       "      <td>Agriculture</td>\n",
       "    </tr>\n",
       "  </tbody>\n",
       "</table>\n",
       "</div>"
      ],
      "text/plain": [
       "               input property_type\n",
       "0       Agribusiness   Agriculture\n",
       "1       Agricultural   Agriculture\n",
       "2        Agriculture   Agriculture\n",
       "3  Agriculture - TBD   Agriculture\n",
       "4        Aquaculture   Agriculture"
      ]
     },
     "execution_count": 4,
     "metadata": {},
     "output_type": "execute_result"
    }
   ],
   "source": [
    "raw_data = pd.read_excel(data_path)#[['sub_type_1','major_cat']].rename(columns={'input':'input_phrase','property_type':'text_label'}).drop_duplicates().reset_index().drop('index', axis=1)\n",
    "raw_data.head()"
   ]
  },
  {
   "cell_type": "code",
   "execution_count": 5,
   "id": "e687ce1a",
   "metadata": {
    "ExecuteTime": {
     "end_time": "2023-04-21T03:31:17.680976Z",
     "start_time": "2023-04-21T03:31:17.670858Z"
    }
   },
   "outputs": [
    {
     "data": {
      "text/html": [
       "<div>\n",
       "<style scoped>\n",
       "    .dataframe tbody tr th:only-of-type {\n",
       "        vertical-align: middle;\n",
       "    }\n",
       "\n",
       "    .dataframe tbody tr th {\n",
       "        vertical-align: top;\n",
       "    }\n",
       "\n",
       "    .dataframe thead th {\n",
       "        text-align: right;\n",
       "    }\n",
       "</style>\n",
       "<table border=\"1\" class=\"dataframe\">\n",
       "  <thead>\n",
       "    <tr style=\"text-align: right;\">\n",
       "      <th></th>\n",
       "      <th>input</th>\n",
       "      <th>property_type</th>\n",
       "      <th>label</th>\n",
       "    </tr>\n",
       "  </thead>\n",
       "  <tbody>\n",
       "    <tr>\n",
       "      <th>0</th>\n",
       "      <td>Agribusiness</td>\n",
       "      <td>Agriculture</td>\n",
       "      <td>0</td>\n",
       "    </tr>\n",
       "    <tr>\n",
       "      <th>1</th>\n",
       "      <td>Agricultural</td>\n",
       "      <td>Agriculture</td>\n",
       "      <td>0</td>\n",
       "    </tr>\n",
       "    <tr>\n",
       "      <th>2</th>\n",
       "      <td>Agriculture</td>\n",
       "      <td>Agriculture</td>\n",
       "      <td>0</td>\n",
       "    </tr>\n",
       "    <tr>\n",
       "      <th>3</th>\n",
       "      <td>Agriculture - TBD</td>\n",
       "      <td>Agriculture</td>\n",
       "      <td>0</td>\n",
       "    </tr>\n",
       "    <tr>\n",
       "      <th>4</th>\n",
       "      <td>Aquaculture</td>\n",
       "      <td>Agriculture</td>\n",
       "      <td>0</td>\n",
       "    </tr>\n",
       "  </tbody>\n",
       "</table>\n",
       "</div>"
      ],
      "text/plain": [
       "               input property_type  label\n",
       "0       Agribusiness   Agriculture      0\n",
       "1       Agricultural   Agriculture      0\n",
       "2        Agriculture   Agriculture      0\n",
       "3  Agriculture - TBD   Agriculture      0\n",
       "4        Aquaculture   Agriculture      0"
      ]
     },
     "execution_count": 5,
     "metadata": {},
     "output_type": "execute_result"
    }
   ],
   "source": [
    "raw_data['label'] = le.fit_transform(raw_data['property_type'])\n",
    "raw_data.head()"
   ]
  },
  {
   "cell_type": "code",
   "execution_count": 6,
   "id": "7dc30a3e",
   "metadata": {
    "ExecuteTime": {
     "end_time": "2023-04-21T03:31:19.536392Z",
     "start_time": "2023-04-21T03:31:19.532015Z"
    }
   },
   "outputs": [],
   "source": [
    "required_data = raw_data[['input','label']]"
   ]
  },
  {
   "cell_type": "code",
   "execution_count": 7,
   "id": "d1bb79ed",
   "metadata": {
    "ExecuteTime": {
     "end_time": "2023-04-21T03:31:20.687424Z",
     "start_time": "2023-04-21T03:31:20.682727Z"
    }
   },
   "outputs": [],
   "source": [
    "train_texts, test_texts, train_labels, test_labels = train_test_split(list(required_data['input']), list(required_data['label']), test_size=.1, shuffle=True)"
   ]
  },
  {
   "cell_type": "code",
   "execution_count": 8,
   "id": "a1f51129",
   "metadata": {
    "ExecuteTime": {
     "end_time": "2023-03-28T19:28:36.638484Z",
     "start_time": "2023-03-28T19:28:36.635961Z"
    }
   },
   "outputs": [],
   "source": [
    "#train_texts, val_texts, train_labels, val_labels = train_test_split(train_texts, train_labels, test_size=.2)"
   ]
  },
  {
   "cell_type": "code",
   "execution_count": 32,
   "id": "c52b6131",
   "metadata": {
    "ExecuteTime": {
     "end_time": "2023-03-28T20:07:04.089262Z",
     "start_time": "2023-03-28T20:07:04.086185Z"
    }
   },
   "outputs": [],
   "source": [
    "#test_texts = list(required_data['input'])"
   ]
  },
  {
   "cell_type": "code",
   "execution_count": 33,
   "id": "d249c1b9",
   "metadata": {
    "ExecuteTime": {
     "end_time": "2023-03-28T20:07:06.366872Z",
     "start_time": "2023-03-28T20:07:06.363711Z"
    }
   },
   "outputs": [],
   "source": [
    "#test_labels = list(required_data['label'])"
   ]
  },
  {
   "cell_type": "code",
   "execution_count": 8,
   "id": "e1f676fb",
   "metadata": {
    "ExecuteTime": {
     "end_time": "2023-04-21T03:31:25.187025Z",
     "start_time": "2023-04-21T03:31:25.154953Z"
    }
   },
   "outputs": [],
   "source": [
    "train_encodings = tokenizer(train_texts, truncation=True, padding=True)\n",
    "#val_encodings = tokenizer(val_texts, truncation=True, padding=True)\n",
    "test_encodings = tokenizer(test_texts, truncation=True, padding=True)"
   ]
  },
  {
   "cell_type": "code",
   "execution_count": 9,
   "id": "a282b2cb",
   "metadata": {
    "ExecuteTime": {
     "end_time": "2023-04-21T03:31:26.245901Z",
     "start_time": "2023-04-21T03:31:26.241101Z"
    }
   },
   "outputs": [],
   "source": [
    "class BuildDataset(torch.utils.data.Dataset):\n",
    "    def __init__(self, encodings, labels):\n",
    "        self.encodings = encodings\n",
    "        self.labels = labels\n",
    "\n",
    "    def __getitem__(self, idx):\n",
    "        item = {key: torch.tensor(val[idx]) for key, val in self.encodings.items()}\n",
    "        item['labels'] = torch.tensor(self.labels[idx])\n",
    "        return item\n",
    "\n",
    "    def __len__(self):\n",
    "        return len(self.labels)\n",
    "\n",
    "train_dataset = BuildDataset(train_encodings, train_labels)\n",
    "test_dataset = BuildDataset(test_encodings, test_labels)"
   ]
  },
  {
   "cell_type": "code",
   "execution_count": 10,
   "id": "7c2e52c0",
   "metadata": {
    "ExecuteTime": {
     "end_time": "2023-04-21T03:33:24.752394Z",
     "start_time": "2023-04-21T03:31:27.120790Z"
    }
   },
   "outputs": [
    {
     "name": "stderr",
     "output_type": "stream",
     "text": [
      "/opt/conda/lib/python3.8/site-packages/transformers/optimization.py:306: FutureWarning: This implementation of AdamW is deprecated and will be removed in a future version. Use the PyTorch implementation torch.optim.AdamW instead, or set `no_deprecation_warning=True` to disable this warning\n",
      "  warnings.warn(\n"
     ]
    },
    {
     "data": {
      "text/plain": [
       "DistilBertForSequenceClassification(\n",
       "  (distilbert): DistilBertModel(\n",
       "    (embeddings): Embeddings(\n",
       "      (word_embeddings): Embedding(30522, 768, padding_idx=0)\n",
       "      (position_embeddings): Embedding(512, 768)\n",
       "      (LayerNorm): LayerNorm((768,), eps=1e-12, elementwise_affine=True)\n",
       "      (dropout): Dropout(p=0.1, inplace=False)\n",
       "    )\n",
       "    (transformer): Transformer(\n",
       "      (layer): ModuleList(\n",
       "        (0): TransformerBlock(\n",
       "          (attention): MultiHeadSelfAttention(\n",
       "            (dropout): Dropout(p=0.1, inplace=False)\n",
       "            (q_lin): Linear(in_features=768, out_features=768, bias=True)\n",
       "            (k_lin): Linear(in_features=768, out_features=768, bias=True)\n",
       "            (v_lin): Linear(in_features=768, out_features=768, bias=True)\n",
       "            (out_lin): Linear(in_features=768, out_features=768, bias=True)\n",
       "          )\n",
       "          (sa_layer_norm): LayerNorm((768,), eps=1e-12, elementwise_affine=True)\n",
       "          (ffn): FFN(\n",
       "            (dropout): Dropout(p=0.1, inplace=False)\n",
       "            (lin1): Linear(in_features=768, out_features=3072, bias=True)\n",
       "            (lin2): Linear(in_features=3072, out_features=768, bias=True)\n",
       "            (activation): GELUActivation()\n",
       "          )\n",
       "          (output_layer_norm): LayerNorm((768,), eps=1e-12, elementwise_affine=True)\n",
       "        )\n",
       "        (1): TransformerBlock(\n",
       "          (attention): MultiHeadSelfAttention(\n",
       "            (dropout): Dropout(p=0.1, inplace=False)\n",
       "            (q_lin): Linear(in_features=768, out_features=768, bias=True)\n",
       "            (k_lin): Linear(in_features=768, out_features=768, bias=True)\n",
       "            (v_lin): Linear(in_features=768, out_features=768, bias=True)\n",
       "            (out_lin): Linear(in_features=768, out_features=768, bias=True)\n",
       "          )\n",
       "          (sa_layer_norm): LayerNorm((768,), eps=1e-12, elementwise_affine=True)\n",
       "          (ffn): FFN(\n",
       "            (dropout): Dropout(p=0.1, inplace=False)\n",
       "            (lin1): Linear(in_features=768, out_features=3072, bias=True)\n",
       "            (lin2): Linear(in_features=3072, out_features=768, bias=True)\n",
       "            (activation): GELUActivation()\n",
       "          )\n",
       "          (output_layer_norm): LayerNorm((768,), eps=1e-12, elementwise_affine=True)\n",
       "        )\n",
       "        (2): TransformerBlock(\n",
       "          (attention): MultiHeadSelfAttention(\n",
       "            (dropout): Dropout(p=0.1, inplace=False)\n",
       "            (q_lin): Linear(in_features=768, out_features=768, bias=True)\n",
       "            (k_lin): Linear(in_features=768, out_features=768, bias=True)\n",
       "            (v_lin): Linear(in_features=768, out_features=768, bias=True)\n",
       "            (out_lin): Linear(in_features=768, out_features=768, bias=True)\n",
       "          )\n",
       "          (sa_layer_norm): LayerNorm((768,), eps=1e-12, elementwise_affine=True)\n",
       "          (ffn): FFN(\n",
       "            (dropout): Dropout(p=0.1, inplace=False)\n",
       "            (lin1): Linear(in_features=768, out_features=3072, bias=True)\n",
       "            (lin2): Linear(in_features=3072, out_features=768, bias=True)\n",
       "            (activation): GELUActivation()\n",
       "          )\n",
       "          (output_layer_norm): LayerNorm((768,), eps=1e-12, elementwise_affine=True)\n",
       "        )\n",
       "        (3): TransformerBlock(\n",
       "          (attention): MultiHeadSelfAttention(\n",
       "            (dropout): Dropout(p=0.1, inplace=False)\n",
       "            (q_lin): Linear(in_features=768, out_features=768, bias=True)\n",
       "            (k_lin): Linear(in_features=768, out_features=768, bias=True)\n",
       "            (v_lin): Linear(in_features=768, out_features=768, bias=True)\n",
       "            (out_lin): Linear(in_features=768, out_features=768, bias=True)\n",
       "          )\n",
       "          (sa_layer_norm): LayerNorm((768,), eps=1e-12, elementwise_affine=True)\n",
       "          (ffn): FFN(\n",
       "            (dropout): Dropout(p=0.1, inplace=False)\n",
       "            (lin1): Linear(in_features=768, out_features=3072, bias=True)\n",
       "            (lin2): Linear(in_features=3072, out_features=768, bias=True)\n",
       "            (activation): GELUActivation()\n",
       "          )\n",
       "          (output_layer_norm): LayerNorm((768,), eps=1e-12, elementwise_affine=True)\n",
       "        )\n",
       "        (4): TransformerBlock(\n",
       "          (attention): MultiHeadSelfAttention(\n",
       "            (dropout): Dropout(p=0.1, inplace=False)\n",
       "            (q_lin): Linear(in_features=768, out_features=768, bias=True)\n",
       "            (k_lin): Linear(in_features=768, out_features=768, bias=True)\n",
       "            (v_lin): Linear(in_features=768, out_features=768, bias=True)\n",
       "            (out_lin): Linear(in_features=768, out_features=768, bias=True)\n",
       "          )\n",
       "          (sa_layer_norm): LayerNorm((768,), eps=1e-12, elementwise_affine=True)\n",
       "          (ffn): FFN(\n",
       "            (dropout): Dropout(p=0.1, inplace=False)\n",
       "            (lin1): Linear(in_features=768, out_features=3072, bias=True)\n",
       "            (lin2): Linear(in_features=3072, out_features=768, bias=True)\n",
       "            (activation): GELUActivation()\n",
       "          )\n",
       "          (output_layer_norm): LayerNorm((768,), eps=1e-12, elementwise_affine=True)\n",
       "        )\n",
       "        (5): TransformerBlock(\n",
       "          (attention): MultiHeadSelfAttention(\n",
       "            (dropout): Dropout(p=0.1, inplace=False)\n",
       "            (q_lin): Linear(in_features=768, out_features=768, bias=True)\n",
       "            (k_lin): Linear(in_features=768, out_features=768, bias=True)\n",
       "            (v_lin): Linear(in_features=768, out_features=768, bias=True)\n",
       "            (out_lin): Linear(in_features=768, out_features=768, bias=True)\n",
       "          )\n",
       "          (sa_layer_norm): LayerNorm((768,), eps=1e-12, elementwise_affine=True)\n",
       "          (ffn): FFN(\n",
       "            (dropout): Dropout(p=0.1, inplace=False)\n",
       "            (lin1): Linear(in_features=768, out_features=3072, bias=True)\n",
       "            (lin2): Linear(in_features=3072, out_features=768, bias=True)\n",
       "            (activation): GELUActivation()\n",
       "          )\n",
       "          (output_layer_norm): LayerNorm((768,), eps=1e-12, elementwise_affine=True)\n",
       "        )\n",
       "      )\n",
       "    )\n",
       "  )\n",
       "  (pre_classifier): Linear(in_features=768, out_features=768, bias=True)\n",
       "  (classifier): Linear(in_features=768, out_features=16, bias=True)\n",
       "  (dropout): Dropout(p=0.2, inplace=False)\n",
       ")"
      ]
     },
     "execution_count": 10,
     "metadata": {},
     "output_type": "execute_result"
    }
   ],
   "source": [
    "model.train()\n",
    "train_loader = DataLoader(train_dataset, batch_size=16, shuffle=True)\n",
    "optim = AdamW(model.parameters(), lr=5e-5)\n",
    "for epoch in range(5):\n",
    "    for batch in train_loader:\n",
    "        optim.zero_grad()\n",
    "        input_ids = batch['input_ids'].to(device)\n",
    "        attention_mask = batch['attention_mask'].to(device)\n",
    "        labels = batch['labels'].to(device)\n",
    "        outputs = model(input_ids, attention_mask=attention_mask, labels=labels)\n",
    "        loss = outputs[0]\n",
    "        loss.backward()\n",
    "        optim.step()\n",
    "\n",
    "model.eval()"
   ]
  },
  {
   "cell_type": "code",
   "execution_count": 11,
   "id": "01e20e91",
   "metadata": {
    "ExecuteTime": {
     "end_time": "2023-04-21T03:33:25.220991Z",
     "start_time": "2023-04-21T03:33:24.754774Z"
    }
   },
   "outputs": [
    {
     "name": "stderr",
     "output_type": "stream",
     "text": [
      "/opt/conda/lib/python3.8/site-packages/transformers/pipelines/text_classification.py:104: UserWarning: `return_all_scores` is now deprecated,  if want a similar funcionality use `top_k=None` instead of `return_all_scores=True` or `top_k=1` instead of `return_all_scores=False`.\n",
      "  warnings.warn(\n"
     ]
    }
   ],
   "source": [
    "pipe = TextClassificationPipeline(model=model, tokenizer=tokenizer, return_all_scores=True)"
   ]
  },
  {
   "cell_type": "code",
   "execution_count": 12,
   "id": "63025d7c",
   "metadata": {
    "ExecuteTime": {
     "end_time": "2023-04-21T03:33:25.552440Z",
     "start_time": "2023-04-21T03:33:25.223422Z"
    }
   },
   "outputs": [],
   "source": [
    "import pickle\n",
    "with open(\"embedding_model_4_20.pkl\",\"wb\") as f:\n",
    "    pickle.dump(model, f)"
   ]
  },
  {
   "cell_type": "code",
   "execution_count": 13,
   "id": "984dc8cd",
   "metadata": {
    "ExecuteTime": {
     "end_time": "2023-04-21T03:33:25.558665Z",
     "start_time": "2023-04-21T03:33:25.554764Z"
    }
   },
   "outputs": [],
   "source": [
    "import pickle\n",
    "with open(\"label_enc_4_20.pkl\",\"wb\") as f:\n",
    "    pickle.dump(le, f)"
   ]
  },
  {
   "cell_type": "code",
   "execution_count": 14,
   "id": "6d837165",
   "metadata": {
    "ExecuteTime": {
     "end_time": "2023-04-21T03:33:27.448576Z",
     "start_time": "2023-04-21T03:33:25.560631Z"
    }
   },
   "outputs": [],
   "source": [
    "predicted_labels = []\n",
    "for single_text in test_texts:\n",
    "    predicted_labels.append(int(sorted(pipe(single_text)[0], key=lambda item: item[\"score\"], reverse=True)[0]['label'].split('_')[1]))"
   ]
  },
  {
   "cell_type": "code",
   "execution_count": 15,
   "id": "43c3451a",
   "metadata": {
    "ExecuteTime": {
     "end_time": "2023-04-21T03:33:27.460866Z",
     "start_time": "2023-04-21T03:33:27.450633Z"
    }
   },
   "outputs": [],
   "source": [
    "res_dict = {'input':test_texts, 'predicted':predicted_labels, 'actual':test_labels}\n",
    "evaluation_dataframe = pd.DataFrame(res_dict)\n",
    "evaluation_dataframe['match'] = evaluation_dataframe['predicted']==evaluation_dataframe['actual']"
   ]
  },
  {
   "cell_type": "code",
   "execution_count": 16,
   "id": "55a5c12f",
   "metadata": {
    "ExecuteTime": {
     "end_time": "2023-04-21T03:33:27.468040Z",
     "start_time": "2023-04-21T03:33:27.462945Z"
    }
   },
   "outputs": [
    {
     "data": {
      "text/plain": [
       "0.9134615384615384"
      ]
     },
     "execution_count": 16,
     "metadata": {},
     "output_type": "execute_result"
    }
   ],
   "source": [
    "correct_count = sum(evaluation_dataframe['match'].values)\n",
    "actual_count = len(evaluation_dataframe)\n",
    "accuracy = correct_count/actual_count\n",
    "accuracy"
   ]
  },
  {
   "cell_type": "code",
   "execution_count": 17,
   "id": "643a792b",
   "metadata": {
    "ExecuteTime": {
     "end_time": "2023-04-21T03:33:34.970145Z",
     "start_time": "2023-04-21T03:33:34.967313Z"
    }
   },
   "outputs": [],
   "source": [
    "# Training 1 = 0.6444444444444445\n",
    "# Training 2 = 0.7\n",
    "# Training 3 = 0.6333333333333333\n",
    "# Training 4 = 0.6888888888888889\n",
    "# Training 5 = 0.6444444444444445"
   ]
  },
  {
   "cell_type": "code",
   "execution_count": 38,
   "id": "ba84f52a",
   "metadata": {
    "ExecuteTime": {
     "end_time": "2023-03-28T20:07:37.807194Z",
     "start_time": "2023-03-28T20:07:37.804467Z"
    }
   },
   "outputs": [],
   "source": [
    "#(0.6444444444444445+0.7+0.6333333333333333+0.6888888888888889+0.6444444444444445)/5"
   ]
  },
  {
   "cell_type": "code",
   "execution_count": 18,
   "id": "da99fcb3",
   "metadata": {
    "ExecuteTime": {
     "end_time": "2023-04-21T03:33:46.519494Z",
     "start_time": "2023-04-21T03:33:46.499624Z"
    }
   },
   "outputs": [],
   "source": [
    "evaluation_dataframe.to_excel('test_data_results_4_20.xlsx', index=False)"
   ]
  },
  {
   "cell_type": "code",
   "execution_count": 19,
   "id": "c4180b45",
   "metadata": {
    "ExecuteTime": {
     "end_time": "2023-04-21T03:34:06.808975Z",
     "start_time": "2023-04-21T03:34:06.804848Z"
    }
   },
   "outputs": [],
   "source": [
    "failed_data = evaluation_dataframe[evaluation_dataframe['match']==0]"
   ]
  },
  {
   "cell_type": "code",
   "execution_count": 20,
   "id": "c7ca48b2",
   "metadata": {
    "ExecuteTime": {
     "end_time": "2023-04-21T03:34:08.993624Z",
     "start_time": "2023-04-21T03:34:08.977128Z"
    }
   },
   "outputs": [
    {
     "name": "stderr",
     "output_type": "stream",
     "text": [
      "<ipython-input-20-ad7cb43b2792>:1: SettingWithCopyWarning: \n",
      "A value is trying to be set on a copy of a slice from a DataFrame.\n",
      "Try using .loc[row_indexer,col_indexer] = value instead\n",
      "\n",
      "See the caveats in the documentation: https://pandas.pydata.org/pandas-docs/stable/user_guide/indexing.html#returning-a-view-versus-a-copy\n",
      "  failed_data['predicted_cat'] =failed_data['predicted'].apply(lambda x: le.inverse_transform([x])[0])\n",
      "<ipython-input-20-ad7cb43b2792>:2: SettingWithCopyWarning: \n",
      "A value is trying to be set on a copy of a slice from a DataFrame.\n",
      "Try using .loc[row_indexer,col_indexer] = value instead\n",
      "\n",
      "See the caveats in the documentation: https://pandas.pydata.org/pandas-docs/stable/user_guide/indexing.html#returning-a-view-versus-a-copy\n",
      "  failed_data['actual_cat'] =failed_data['actual'].apply(lambda x: le.inverse_transform([x])[0])\n"
     ]
    },
    {
     "data": {
      "text/html": [
       "<div>\n",
       "<style scoped>\n",
       "    .dataframe tbody tr th:only-of-type {\n",
       "        vertical-align: middle;\n",
       "    }\n",
       "\n",
       "    .dataframe tbody tr th {\n",
       "        vertical-align: top;\n",
       "    }\n",
       "\n",
       "    .dataframe thead th {\n",
       "        text-align: right;\n",
       "    }\n",
       "</style>\n",
       "<table border=\"1\" class=\"dataframe\">\n",
       "  <thead>\n",
       "    <tr style=\"text-align: right;\">\n",
       "      <th></th>\n",
       "      <th>input</th>\n",
       "      <th>predicted</th>\n",
       "      <th>actual</th>\n",
       "      <th>match</th>\n",
       "      <th>predicted_cat</th>\n",
       "      <th>actual_cat</th>\n",
       "    </tr>\n",
       "  </thead>\n",
       "  <tbody>\n",
       "    <tr>\n",
       "      <th>9</th>\n",
       "      <td>Ancillary Space</td>\n",
       "      <td>10</td>\n",
       "      <td>15</td>\n",
       "      <td>False</td>\n",
       "      <td>Office</td>\n",
       "      <td>Special Purpose</td>\n",
       "    </tr>\n",
       "    <tr>\n",
       "      <th>23</th>\n",
       "      <td>Coop</td>\n",
       "      <td>0</td>\n",
       "      <td>12</td>\n",
       "      <td>False</td>\n",
       "      <td>Agriculture</td>\n",
       "      <td>Residential</td>\n",
       "    </tr>\n",
       "    <tr>\n",
       "      <th>41</th>\n",
       "      <td>Call Center</td>\n",
       "      <td>13</td>\n",
       "      <td>10</td>\n",
       "      <td>False</td>\n",
       "      <td>Retail</td>\n",
       "      <td>Office</td>\n",
       "    </tr>\n",
       "    <tr>\n",
       "      <th>42</th>\n",
       "      <td>Themed</td>\n",
       "      <td>5</td>\n",
       "      <td>13</td>\n",
       "      <td>False</td>\n",
       "      <td>Hospitality</td>\n",
       "      <td>Retail</td>\n",
       "    </tr>\n",
       "    <tr>\n",
       "      <th>54</th>\n",
       "      <td>Grain Elevator</td>\n",
       "      <td>6</td>\n",
       "      <td>0</td>\n",
       "      <td>False</td>\n",
       "      <td>Industrial &amp; Logistics</td>\n",
       "      <td>Agriculture</td>\n",
       "    </tr>\n",
       "  </tbody>\n",
       "</table>\n",
       "</div>"
      ],
      "text/plain": [
       "              input  predicted  actual  match           predicted_cat  \\\n",
       "9   Ancillary Space         10      15  False                  Office   \n",
       "23             Coop          0      12  False             Agriculture   \n",
       "41      Call Center         13      10  False                  Retail   \n",
       "42           Themed          5      13  False             Hospitality   \n",
       "54   Grain Elevator          6       0  False  Industrial & Logistics   \n",
       "\n",
       "         actual_cat  \n",
       "9   Special Purpose  \n",
       "23      Residential  \n",
       "41           Office  \n",
       "42           Retail  \n",
       "54      Agriculture  "
      ]
     },
     "execution_count": 20,
     "metadata": {},
     "output_type": "execute_result"
    }
   ],
   "source": [
    "failed_data['predicted_cat'] =failed_data['predicted'].apply(lambda x: le.inverse_transform([x])[0])\n",
    "failed_data['actual_cat'] =failed_data['actual'].apply(lambda x: le.inverse_transform([x])[0])\n",
    "failed_data.head()"
   ]
  },
  {
   "cell_type": "code",
   "execution_count": 21,
   "id": "e25bd5ee",
   "metadata": {
    "ExecuteTime": {
     "end_time": "2023-04-21T03:34:29.883463Z",
     "start_time": "2023-04-21T03:34:29.869082Z"
    }
   },
   "outputs": [],
   "source": [
    "failed_data.to_excel('full_failed_data_4_20.xlsx', index=False)"
   ]
  },
  {
   "cell_type": "code",
   "execution_count": 22,
   "id": "df5492ed",
   "metadata": {
    "ExecuteTime": {
     "end_time": "2023-04-21T03:34:36.634255Z",
     "start_time": "2023-04-21T03:34:36.608875Z"
    }
   },
   "outputs": [
    {
     "data": {
      "text/html": [
       "<div>\n",
       "<style scoped>\n",
       "    .dataframe tbody tr th:only-of-type {\n",
       "        vertical-align: middle;\n",
       "    }\n",
       "\n",
       "    .dataframe tbody tr th {\n",
       "        vertical-align: top;\n",
       "    }\n",
       "\n",
       "    .dataframe thead th {\n",
       "        text-align: right;\n",
       "    }\n",
       "</style>\n",
       "<table border=\"1\" class=\"dataframe\">\n",
       "  <thead>\n",
       "    <tr style=\"text-align: right;\">\n",
       "      <th></th>\n",
       "      <th>input</th>\n",
       "      <th>predicted</th>\n",
       "      <th>actual</th>\n",
       "      <th>match</th>\n",
       "      <th>predicted_cat</th>\n",
       "      <th>actual_cat</th>\n",
       "    </tr>\n",
       "  </thead>\n",
       "  <tbody>\n",
       "    <tr>\n",
       "      <th>0</th>\n",
       "      <td>Other Shopping Center (Attached)</td>\n",
       "      <td>13</td>\n",
       "      <td>13</td>\n",
       "      <td>True</td>\n",
       "      <td>Retail</td>\n",
       "      <td>Retail</td>\n",
       "    </tr>\n",
       "    <tr>\n",
       "      <th>1</th>\n",
       "      <td>Special Purpose - TBD</td>\n",
       "      <td>15</td>\n",
       "      <td>15</td>\n",
       "      <td>True</td>\n",
       "      <td>Special Purpose</td>\n",
       "      <td>Special Purpose</td>\n",
       "    </tr>\n",
       "    <tr>\n",
       "      <th>2</th>\n",
       "      <td>Bed &amp; Breakfast</td>\n",
       "      <td>5</td>\n",
       "      <td>5</td>\n",
       "      <td>True</td>\n",
       "      <td>Hospitality</td>\n",
       "      <td>Hospitality</td>\n",
       "    </tr>\n",
       "    <tr>\n",
       "      <th>3</th>\n",
       "      <td>Hybrid Car Wash</td>\n",
       "      <td>13</td>\n",
       "      <td>13</td>\n",
       "      <td>True</td>\n",
       "      <td>Retail</td>\n",
       "      <td>Retail</td>\n",
       "    </tr>\n",
       "    <tr>\n",
       "      <th>4</th>\n",
       "      <td>Distribution</td>\n",
       "      <td>6</td>\n",
       "      <td>6</td>\n",
       "      <td>True</td>\n",
       "      <td>Industrial &amp; Logistics</td>\n",
       "      <td>Industrial &amp; Logistics</td>\n",
       "    </tr>\n",
       "  </tbody>\n",
       "</table>\n",
       "</div>"
      ],
      "text/plain": [
       "                              input  predicted  actual  match  \\\n",
       "0  Other Shopping Center (Attached)         13      13   True   \n",
       "1             Special Purpose - TBD         15      15   True   \n",
       "2                   Bed & Breakfast          5       5   True   \n",
       "3                   Hybrid Car Wash         13      13   True   \n",
       "4                      Distribution          6       6   True   \n",
       "\n",
       "            predicted_cat              actual_cat  \n",
       "0                  Retail                  Retail  \n",
       "1         Special Purpose         Special Purpose  \n",
       "2             Hospitality             Hospitality  \n",
       "3                  Retail                  Retail  \n",
       "4  Industrial & Logistics  Industrial & Logistics  "
      ]
     },
     "execution_count": 22,
     "metadata": {},
     "output_type": "execute_result"
    }
   ],
   "source": [
    "evaluation_dataframe['predicted_cat'] =evaluation_dataframe['predicted'].apply(lambda x: le.inverse_transform([x])[0])\n",
    "evaluation_dataframe['actual_cat'] =evaluation_dataframe['actual'].apply(lambda x: le.inverse_transform([x])[0])\n",
    "evaluation_dataframe.head()"
   ]
  },
  {
   "cell_type": "code",
   "execution_count": 23,
   "id": "84fab4fa",
   "metadata": {
    "ExecuteTime": {
     "end_time": "2023-04-21T03:34:43.994062Z",
     "start_time": "2023-04-21T03:34:43.971029Z"
    }
   },
   "outputs": [],
   "source": [
    "evaluation_dataframe.to_excel('full_data_results_with_labels_4_20.xlsx', index=False)"
   ]
  },
  {
   "cell_type": "code",
   "execution_count": 24,
   "id": "922f36d2",
   "metadata": {
    "ExecuteTime": {
     "end_time": "2023-04-21T03:34:44.793282Z",
     "start_time": "2023-04-21T03:34:44.789302Z"
    }
   },
   "outputs": [],
   "source": [
    "def converter(label_list):\n",
    "    new_list = []\n",
    "    for val in label_list:\n",
    "        new_dict = {}\n",
    "        new_dict[le.inverse_transform([int(val['label'].split('_')[1])])[0]] = round(val['score']*100,2)\n",
    "        new_list.append(new_dict)\n",
    "    return new_list"
   ]
  },
  {
   "cell_type": "code",
   "execution_count": 25,
   "id": "52e3e568",
   "metadata": {
    "ExecuteTime": {
     "end_time": "2023-04-21T03:34:45.815462Z",
     "start_time": "2023-04-21T03:34:45.790770Z"
    }
   },
   "outputs": [
    {
     "data": {
      "text/plain": [
       "[{'Office': 98.17},\n",
       " {'Public Institution': 0.3},\n",
       " {'Healthcare': 0.24},\n",
       " {'Data Center': 0.23},\n",
       " {'Hospitality': 0.17}]"
      ]
     },
     "execution_count": 25,
     "metadata": {},
     "output_type": "execute_result"
    }
   ],
   "source": [
    "converter(sorted(pipe(\"office\")[0], key=lambda item: item[\"score\"], reverse=True)[:5])"
   ]
  },
  {
   "cell_type": "code",
   "execution_count": 26,
   "id": "268cb97f",
   "metadata": {
    "ExecuteTime": {
     "end_time": "2023-04-21T03:34:49.248890Z",
     "start_time": "2023-04-21T03:34:49.064858Z"
    }
   },
   "outputs": [
    {
     "name": "stderr",
     "output_type": "stream",
     "text": [
      "<ipython-input-26-8d3ddde87da3>:2: SettingWithCopyWarning: \n",
      "A value is trying to be set on a copy of a slice from a DataFrame.\n",
      "Try using .loc[row_indexer,col_indexer] = value instead\n",
      "\n",
      "See the caveats in the documentation: https://pandas.pydata.org/pandas-docs/stable/user_guide/indexing.html#returning-a-view-versus-a-copy\n",
      "  multiple_predictions['all_predictions'] = multiple_predictions['input'].apply(lambda x:converter(sorted(pipe(x)[0], key=lambda item: item[\"score\"], reverse=True)[:5]))\n"
     ]
    },
    {
     "data": {
      "text/html": [
       "<div>\n",
       "<style scoped>\n",
       "    .dataframe tbody tr th:only-of-type {\n",
       "        vertical-align: middle;\n",
       "    }\n",
       "\n",
       "    .dataframe tbody tr th {\n",
       "        vertical-align: top;\n",
       "    }\n",
       "\n",
       "    .dataframe thead th {\n",
       "        text-align: right;\n",
       "    }\n",
       "</style>\n",
       "<table border=\"1\" class=\"dataframe\">\n",
       "  <thead>\n",
       "    <tr style=\"text-align: right;\">\n",
       "      <th></th>\n",
       "      <th>input</th>\n",
       "      <th>actual_cat</th>\n",
       "      <th>all_predictions</th>\n",
       "    </tr>\n",
       "  </thead>\n",
       "  <tbody>\n",
       "    <tr>\n",
       "      <th>9</th>\n",
       "      <td>Ancillary Space</td>\n",
       "      <td>Special Purpose</td>\n",
       "      <td>[{'Office': 88.15}, {'Residential': 4.48}, {'L...</td>\n",
       "    </tr>\n",
       "    <tr>\n",
       "      <th>23</th>\n",
       "      <td>Coop</td>\n",
       "      <td>Residential</td>\n",
       "      <td>[{'Agriculture': 44.47}, {'Residential': 27.94...</td>\n",
       "    </tr>\n",
       "    <tr>\n",
       "      <th>41</th>\n",
       "      <td>Call Center</td>\n",
       "      <td>Office</td>\n",
       "      <td>[{'Retail': 66.66}, {'Office': 17.08}, {'Hospi...</td>\n",
       "    </tr>\n",
       "    <tr>\n",
       "      <th>42</th>\n",
       "      <td>Themed</td>\n",
       "      <td>Retail</td>\n",
       "      <td>[{'Hospitality': 51.36}, {'Leisure': 38.8}, {'...</td>\n",
       "    </tr>\n",
       "    <tr>\n",
       "      <th>54</th>\n",
       "      <td>Grain Elevator</td>\n",
       "      <td>Agriculture</td>\n",
       "      <td>[{'Industrial &amp; Logistics': 98.74}, {'Retail':...</td>\n",
       "    </tr>\n",
       "    <tr>\n",
       "      <th>63</th>\n",
       "      <td>Agribusiness</td>\n",
       "      <td>Agriculture</td>\n",
       "      <td>[{'Industrial &amp; Logistics': 82.33}, {'Retail':...</td>\n",
       "    </tr>\n",
       "    <tr>\n",
       "      <th>73</th>\n",
       "      <td>Accounting</td>\n",
       "      <td>Industrial &amp; Logistics</td>\n",
       "      <td>[{'Office': 91.39}, {'Data Center': 1.84}, {'I...</td>\n",
       "    </tr>\n",
       "    <tr>\n",
       "      <th>74</th>\n",
       "      <td>Single-Care</td>\n",
       "      <td>Senior Housing</td>\n",
       "      <td>[{'Healthcare': 94.83}, {'Senior Housing': 2.3...</td>\n",
       "    </tr>\n",
       "    <tr>\n",
       "      <th>75</th>\n",
       "      <td>Multi-Let Estates</td>\n",
       "      <td>Industrial &amp; Logistics</td>\n",
       "      <td>[{'Land': 84.35}, {'Residential': 11.95}, {'Ag...</td>\n",
       "    </tr>\n",
       "  </tbody>\n",
       "</table>\n",
       "</div>"
      ],
      "text/plain": [
       "                input              actual_cat  \\\n",
       "9     Ancillary Space         Special Purpose   \n",
       "23               Coop             Residential   \n",
       "41        Call Center                  Office   \n",
       "42             Themed                  Retail   \n",
       "54     Grain Elevator             Agriculture   \n",
       "63       Agribusiness             Agriculture   \n",
       "73         Accounting  Industrial & Logistics   \n",
       "74        Single-Care          Senior Housing   \n",
       "75  Multi-Let Estates  Industrial & Logistics   \n",
       "\n",
       "                                      all_predictions  \n",
       "9   [{'Office': 88.15}, {'Residential': 4.48}, {'L...  \n",
       "23  [{'Agriculture': 44.47}, {'Residential': 27.94...  \n",
       "41  [{'Retail': 66.66}, {'Office': 17.08}, {'Hospi...  \n",
       "42  [{'Hospitality': 51.36}, {'Leisure': 38.8}, {'...  \n",
       "54  [{'Industrial & Logistics': 98.74}, {'Retail':...  \n",
       "63  [{'Industrial & Logistics': 82.33}, {'Retail':...  \n",
       "73  [{'Office': 91.39}, {'Data Center': 1.84}, {'I...  \n",
       "74  [{'Healthcare': 94.83}, {'Senior Housing': 2.3...  \n",
       "75  [{'Land': 84.35}, {'Residential': 11.95}, {'Ag...  "
      ]
     },
     "execution_count": 26,
     "metadata": {},
     "output_type": "execute_result"
    }
   ],
   "source": [
    "multiple_predictions = failed_data[['input','actual_cat']]\n",
    "multiple_predictions['all_predictions'] = multiple_predictions['input'].apply(lambda x:converter(sorted(pipe(x)[0], key=lambda item: item[\"score\"], reverse=True)[:5]))\n",
    "multiple_predictions"
   ]
  },
  {
   "cell_type": "code",
   "execution_count": 27,
   "id": "332fe229",
   "metadata": {
    "ExecuteTime": {
     "end_time": "2023-04-21T03:34:51.437843Z",
     "start_time": "2023-04-21T03:34:51.423381Z"
    }
   },
   "outputs": [
    {
     "data": {
      "text/html": [
       "<div>\n",
       "<style scoped>\n",
       "    .dataframe tbody tr th:only-of-type {\n",
       "        vertical-align: middle;\n",
       "    }\n",
       "\n",
       "    .dataframe tbody tr th {\n",
       "        vertical-align: top;\n",
       "    }\n",
       "\n",
       "    .dataframe thead th {\n",
       "        text-align: right;\n",
       "    }\n",
       "</style>\n",
       "<table border=\"1\" class=\"dataframe\">\n",
       "  <thead>\n",
       "    <tr style=\"text-align: right;\">\n",
       "      <th></th>\n",
       "      <th>input</th>\n",
       "      <th>actual_cat</th>\n",
       "      <th>all_predictions</th>\n",
       "    </tr>\n",
       "  </thead>\n",
       "  <tbody>\n",
       "    <tr>\n",
       "      <th>9</th>\n",
       "      <td>Ancillary Space</td>\n",
       "      <td>Special Purpose</td>\n",
       "      <td>{'Office': 88.15}</td>\n",
       "    </tr>\n",
       "    <tr>\n",
       "      <th>9</th>\n",
       "      <td>Ancillary Space</td>\n",
       "      <td>Special Purpose</td>\n",
       "      <td>{'Residential': 4.48}</td>\n",
       "    </tr>\n",
       "    <tr>\n",
       "      <th>9</th>\n",
       "      <td>Ancillary Space</td>\n",
       "      <td>Special Purpose</td>\n",
       "      <td>{'Land': 2.07}</td>\n",
       "    </tr>\n",
       "    <tr>\n",
       "      <th>9</th>\n",
       "      <td>Ancillary Space</td>\n",
       "      <td>Special Purpose</td>\n",
       "      <td>{'Special Purpose': 1.73}</td>\n",
       "    </tr>\n",
       "    <tr>\n",
       "      <th>9</th>\n",
       "      <td>Ancillary Space</td>\n",
       "      <td>Special Purpose</td>\n",
       "      <td>{'Hospitality': 0.55}</td>\n",
       "    </tr>\n",
       "  </tbody>\n",
       "</table>\n",
       "</div>"
      ],
      "text/plain": [
       "             input       actual_cat            all_predictions\n",
       "9  Ancillary Space  Special Purpose          {'Office': 88.15}\n",
       "9  Ancillary Space  Special Purpose      {'Residential': 4.48}\n",
       "9  Ancillary Space  Special Purpose             {'Land': 2.07}\n",
       "9  Ancillary Space  Special Purpose  {'Special Purpose': 1.73}\n",
       "9  Ancillary Space  Special Purpose      {'Hospitality': 0.55}"
      ]
     },
     "execution_count": 27,
     "metadata": {},
     "output_type": "execute_result"
    }
   ],
   "source": [
    "multiple_predictions = multiple_predictions.explode('all_predictions')\n",
    "multiple_predictions.head()"
   ]
  },
  {
   "cell_type": "code",
   "execution_count": 28,
   "id": "bf471b6b",
   "metadata": {
    "ExecuteTime": {
     "end_time": "2023-04-21T03:34:53.165735Z",
     "start_time": "2023-04-21T03:34:53.149696Z"
    }
   },
   "outputs": [
    {
     "data": {
      "text/html": [
       "<div>\n",
       "<style scoped>\n",
       "    .dataframe tbody tr th:only-of-type {\n",
       "        vertical-align: middle;\n",
       "    }\n",
       "\n",
       "    .dataframe tbody tr th {\n",
       "        vertical-align: top;\n",
       "    }\n",
       "\n",
       "    .dataframe thead th {\n",
       "        text-align: right;\n",
       "    }\n",
       "</style>\n",
       "<table border=\"1\" class=\"dataframe\">\n",
       "  <thead>\n",
       "    <tr style=\"text-align: right;\">\n",
       "      <th></th>\n",
       "      <th>input</th>\n",
       "      <th>actual_cat</th>\n",
       "      <th>all_predictions</th>\n",
       "      <th>predicted_category</th>\n",
       "      <th>prediction_probability</th>\n",
       "    </tr>\n",
       "  </thead>\n",
       "  <tbody>\n",
       "    <tr>\n",
       "      <th>9</th>\n",
       "      <td>Ancillary Space</td>\n",
       "      <td>Special Purpose</td>\n",
       "      <td>{'Office': 88.15}</td>\n",
       "      <td>(Office)</td>\n",
       "      <td>(88.15)</td>\n",
       "    </tr>\n",
       "    <tr>\n",
       "      <th>9</th>\n",
       "      <td>Ancillary Space</td>\n",
       "      <td>Special Purpose</td>\n",
       "      <td>{'Residential': 4.48}</td>\n",
       "      <td>(Residential)</td>\n",
       "      <td>(4.48)</td>\n",
       "    </tr>\n",
       "    <tr>\n",
       "      <th>9</th>\n",
       "      <td>Ancillary Space</td>\n",
       "      <td>Special Purpose</td>\n",
       "      <td>{'Land': 2.07}</td>\n",
       "      <td>(Land)</td>\n",
       "      <td>(2.07)</td>\n",
       "    </tr>\n",
       "    <tr>\n",
       "      <th>9</th>\n",
       "      <td>Ancillary Space</td>\n",
       "      <td>Special Purpose</td>\n",
       "      <td>{'Special Purpose': 1.73}</td>\n",
       "      <td>(Special Purpose)</td>\n",
       "      <td>(1.73)</td>\n",
       "    </tr>\n",
       "    <tr>\n",
       "      <th>9</th>\n",
       "      <td>Ancillary Space</td>\n",
       "      <td>Special Purpose</td>\n",
       "      <td>{'Hospitality': 0.55}</td>\n",
       "      <td>(Hospitality)</td>\n",
       "      <td>(0.55)</td>\n",
       "    </tr>\n",
       "  </tbody>\n",
       "</table>\n",
       "</div>"
      ],
      "text/plain": [
       "             input       actual_cat            all_predictions  \\\n",
       "9  Ancillary Space  Special Purpose          {'Office': 88.15}   \n",
       "9  Ancillary Space  Special Purpose      {'Residential': 4.48}   \n",
       "9  Ancillary Space  Special Purpose             {'Land': 2.07}   \n",
       "9  Ancillary Space  Special Purpose  {'Special Purpose': 1.73}   \n",
       "9  Ancillary Space  Special Purpose      {'Hospitality': 0.55}   \n",
       "\n",
       "  predicted_category prediction_probability  \n",
       "9           (Office)                (88.15)  \n",
       "9      (Residential)                 (4.48)  \n",
       "9             (Land)                 (2.07)  \n",
       "9  (Special Purpose)                 (1.73)  \n",
       "9      (Hospitality)                 (0.55)  "
      ]
     },
     "execution_count": 28,
     "metadata": {},
     "output_type": "execute_result"
    }
   ],
   "source": [
    "multiple_predictions['predicted_category'] = multiple_predictions['all_predictions'].apply(lambda x:x.keys())\n",
    "multiple_predictions['prediction_probability'] = multiple_predictions['all_predictions'].apply(lambda x:x.values())\n",
    "multiple_predictions.head()"
   ]
  },
  {
   "cell_type": "code",
   "execution_count": 29,
   "id": "c0f5a771",
   "metadata": {
    "ExecuteTime": {
     "end_time": "2023-04-21T03:35:02.326578Z",
     "start_time": "2023-04-21T03:35:02.308784Z"
    }
   },
   "outputs": [],
   "source": [
    "multiple_predictions[['input', 'actual_cat','predicted_category','prediction_probability']].to_excel(\"New_Model_Test_Failed_4_20.xlsx\", index=False)"
   ]
  },
  {
   "cell_type": "code",
   "execution_count": null,
   "id": "fc57c5c7",
   "metadata": {},
   "outputs": [],
   "source": []
  }
 ],
 "metadata": {
  "kernelspec": {
   "display_name": "Python 3",
   "language": "python",
   "name": "python3"
  },
  "language_info": {
   "codemirror_mode": {
    "name": "ipython",
    "version": 3
   },
   "file_extension": ".py",
   "mimetype": "text/x-python",
   "name": "python",
   "nbconvert_exporter": "python",
   "pygments_lexer": "ipython3",
   "version": "3.8.10"
  },
  "toc": {
   "base_numbering": 1,
   "nav_menu": {},
   "number_sections": false,
   "sideBar": true,
   "skip_h1_title": false,
   "title_cell": "Table of Contents",
   "title_sidebar": "Contents",
   "toc_cell": false,
   "toc_position": {},
   "toc_section_display": true,
   "toc_window_display": false
  }
 },
 "nbformat": 4,
 "nbformat_minor": 5
}

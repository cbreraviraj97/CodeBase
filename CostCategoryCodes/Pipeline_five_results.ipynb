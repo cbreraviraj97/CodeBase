{
 "cells": [
  {
   "cell_type": "code",
   "execution_count": 1,
   "id": "5f99adf7",
   "metadata": {
    "ExecuteTime": {
     "end_time": "2023-04-16T15:41:38.615614Z",
     "start_time": "2023-04-16T15:41:33.998926Z"
    }
   },
   "outputs": [
    {
     "name": "stderr",
     "output_type": "stream",
     "text": [
      "/opt/conda/lib/python3.8/site-packages/transformers/pipelines/text_classification.py:104: UserWarning: `return_all_scores` is now deprecated,  if want a similar funcionality use `top_k=None` instead of `return_all_scores=True` or `top_k=1` instead of `return_all_scores=False`.\n",
      "  warnings.warn(\n"
     ]
    }
   ],
   "source": [
    "import pickle\n",
    "import pandas as pd\n",
    "from transformers import TextClassificationPipeline, DistilBertForSequenceClassification, DistilBertTokenizer\n",
    "import ast\n",
    "import torch\n",
    "tokenizer = DistilBertTokenizer.from_pretrained(\"distilbert-base-uncased\")\n",
    "model = pickle.load(open('embedding_model.pkl', 'rb'))\n",
    "pipe = TextClassificationPipeline(model=model, tokenizer=tokenizer, return_all_scores=True)\n",
    "le = pickle.load(open('label_enc.pkl', 'rb'))"
   ]
  },
  {
   "cell_type": "code",
   "execution_count": 2,
   "id": "0bea6930",
   "metadata": {
    "ExecuteTime": {
     "end_time": "2023-04-16T15:41:38.622294Z",
     "start_time": "2023-04-16T15:41:38.618192Z"
    }
   },
   "outputs": [],
   "source": [
    "def converter(text_string):\n",
    "    new_list = []\n",
    "    label_list = sorted(pipe(text_string)[0], key=lambda item: item[\"score\"], reverse=True)[:5]\n",
    "    for val in label_list:\n",
    "        new_dict = {}\n",
    "        new_dict[le.inverse_transform([int(val['label'].split('_')[1])])[0]] = round(val['score']*100,2)\n",
    "        new_list.append(new_dict)\n",
    "    return new_list"
   ]
  },
  {
   "cell_type": "code",
   "execution_count": 3,
   "id": "21ced654",
   "metadata": {
    "ExecuteTime": {
     "end_time": "2023-04-16T15:41:38.630843Z",
     "start_time": "2023-04-16T15:41:38.624340Z"
    }
   },
   "outputs": [],
   "source": [
    "def run_pipeline(input_data, output_data):\n",
    "    input_data = pd.read_csv(input_data).iloc[:,0].to_frame()\n",
    "    input_data.columns = ['input_data']\n",
    "    multiple_predictions = input_data.dropna()\n",
    "    multiple_predictions['all_predictions'] = multiple_predictions['input_data'].apply(lambda x:converter(x))\n",
    "    multiple_predictions = multiple_predictions.explode('all_predictions')\n",
    "    multiple_predictions['predicted_category'] = multiple_predictions['all_predictions'].apply(lambda x:x.keys())\n",
    "    multiple_predictions['prediction_probability'] = multiple_predictions['all_predictions'].apply(lambda x:x.values())\n",
    "    multiple_predictions['model_predicted_category'] = multiple_predictions['predicted_category'].apply(lambda x: str(x).replace(\"dict_keys(['\",\"\").replace(\"'])\",\"\"))\n",
    "    multiple_predictions['model_predicted_percentage'] = multiple_predictions['prediction_probability'].apply(lambda x: str(x).replace(\"dict_values([\",\"\").replace(\"])\",\"\"))\n",
    "    results_data = multiple_predictions[['input_data','model_predicted_category','model_predicted_percentage']]\n",
    "    results_data.to_csv(output_data, index=False)\n",
    "    return"
   ]
  },
  {
   "cell_type": "code",
   "execution_count": 4,
   "id": "b2c1b3bf",
   "metadata": {
    "ExecuteTime": {
     "end_time": "2023-04-16T15:41:38.636128Z",
     "start_time": "2023-04-16T15:41:38.632651Z"
    }
   },
   "outputs": [],
   "source": [
    "input_data_path = \"DATA/test_data.csv\"\n",
    "output_data_path = \"predictions.csv\""
   ]
  },
  {
   "cell_type": "code",
   "execution_count": 5,
   "id": "6aaabc9d",
   "metadata": {
    "ExecuteTime": {
     "end_time": "2023-04-16T15:41:40.253029Z",
     "start_time": "2023-04-16T15:41:38.637993Z"
    }
   },
   "outputs": [],
   "source": [
    "run_pipeline = run_pipeline(input_data_path, output_data_path)"
   ]
  },
  {
   "cell_type": "code",
   "execution_count": null,
   "id": "eb734f9b",
   "metadata": {},
   "outputs": [],
   "source": []
  }
 ],
 "metadata": {
  "kernelspec": {
   "display_name": "Python 3",
   "language": "python",
   "name": "python3"
  },
  "language_info": {
   "codemirror_mode": {
    "name": "ipython",
    "version": 3
   },
   "file_extension": ".py",
   "mimetype": "text/x-python",
   "name": "python",
   "nbconvert_exporter": "python",
   "pygments_lexer": "ipython3",
   "version": "3.8.10"
  },
  "toc": {
   "base_numbering": 1,
   "nav_menu": {},
   "number_sections": false,
   "sideBar": true,
   "skip_h1_title": false,
   "title_cell": "Table of Contents",
   "title_sidebar": "Contents",
   "toc_cell": false,
   "toc_position": {},
   "toc_section_display": true,
   "toc_window_display": false
  }
 },
 "nbformat": 4,
 "nbformat_minor": 5
}

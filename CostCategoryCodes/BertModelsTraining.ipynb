{
 "cells": [
  {
   "cell_type": "code",
   "execution_count": 13,
   "id": "60bbac5a",
   "metadata": {
    "ExecuteTime": {
     "end_time": "2023-05-03T14:27:03.007461Z",
     "start_time": "2023-05-03T14:27:02.039270Z"
    }
   },
   "outputs": [
    {
     "name": "stderr",
     "output_type": "stream",
     "text": [
      "Some weights of the model checkpoint at distilbert-base-uncased were not used when initializing DistilBertForSequenceClassification: ['vocab_transform.weight', 'vocab_layer_norm.weight', 'vocab_layer_norm.bias', 'vocab_transform.bias', 'vocab_projector.bias', 'vocab_projector.weight']\n",
      "- This IS expected if you are initializing DistilBertForSequenceClassification from the checkpoint of a model trained on another task or with another architecture (e.g. initializing a BertForSequenceClassification model from a BertForPreTraining model).\n",
      "- This IS NOT expected if you are initializing DistilBertForSequenceClassification from the checkpoint of a model that you expect to be exactly identical (initializing a BertForSequenceClassification model from a BertForSequenceClassification model).\n",
      "Some weights of DistilBertForSequenceClassification were not initialized from the model checkpoint at distilbert-base-uncased and are newly initialized: ['classifier.bias', 'classifier.weight', 'pre_classifier.weight', 'pre_classifier.bias']\n",
      "You should probably TRAIN this model on a down-stream task to be able to use it for predictions and inference.\n"
     ]
    },
    {
     "data": {
      "text/plain": [
       "DistilBertForSequenceClassification(\n",
       "  (distilbert): DistilBertModel(\n",
       "    (embeddings): Embeddings(\n",
       "      (word_embeddings): Embedding(30522, 768, padding_idx=0)\n",
       "      (position_embeddings): Embedding(512, 768)\n",
       "      (LayerNorm): LayerNorm((768,), eps=1e-12, elementwise_affine=True)\n",
       "      (dropout): Dropout(p=0.1, inplace=False)\n",
       "    )\n",
       "    (transformer): Transformer(\n",
       "      (layer): ModuleList(\n",
       "        (0): TransformerBlock(\n",
       "          (attention): MultiHeadSelfAttention(\n",
       "            (dropout): Dropout(p=0.1, inplace=False)\n",
       "            (q_lin): Linear(in_features=768, out_features=768, bias=True)\n",
       "            (k_lin): Linear(in_features=768, out_features=768, bias=True)\n",
       "            (v_lin): Linear(in_features=768, out_features=768, bias=True)\n",
       "            (out_lin): Linear(in_features=768, out_features=768, bias=True)\n",
       "          )\n",
       "          (sa_layer_norm): LayerNorm((768,), eps=1e-12, elementwise_affine=True)\n",
       "          (ffn): FFN(\n",
       "            (dropout): Dropout(p=0.1, inplace=False)\n",
       "            (lin1): Linear(in_features=768, out_features=3072, bias=True)\n",
       "            (lin2): Linear(in_features=3072, out_features=768, bias=True)\n",
       "            (activation): GELUActivation()\n",
       "          )\n",
       "          (output_layer_norm): LayerNorm((768,), eps=1e-12, elementwise_affine=True)\n",
       "        )\n",
       "        (1): TransformerBlock(\n",
       "          (attention): MultiHeadSelfAttention(\n",
       "            (dropout): Dropout(p=0.1, inplace=False)\n",
       "            (q_lin): Linear(in_features=768, out_features=768, bias=True)\n",
       "            (k_lin): Linear(in_features=768, out_features=768, bias=True)\n",
       "            (v_lin): Linear(in_features=768, out_features=768, bias=True)\n",
       "            (out_lin): Linear(in_features=768, out_features=768, bias=True)\n",
       "          )\n",
       "          (sa_layer_norm): LayerNorm((768,), eps=1e-12, elementwise_affine=True)\n",
       "          (ffn): FFN(\n",
       "            (dropout): Dropout(p=0.1, inplace=False)\n",
       "            (lin1): Linear(in_features=768, out_features=3072, bias=True)\n",
       "            (lin2): Linear(in_features=3072, out_features=768, bias=True)\n",
       "            (activation): GELUActivation()\n",
       "          )\n",
       "          (output_layer_norm): LayerNorm((768,), eps=1e-12, elementwise_affine=True)\n",
       "        )\n",
       "        (2): TransformerBlock(\n",
       "          (attention): MultiHeadSelfAttention(\n",
       "            (dropout): Dropout(p=0.1, inplace=False)\n",
       "            (q_lin): Linear(in_features=768, out_features=768, bias=True)\n",
       "            (k_lin): Linear(in_features=768, out_features=768, bias=True)\n",
       "            (v_lin): Linear(in_features=768, out_features=768, bias=True)\n",
       "            (out_lin): Linear(in_features=768, out_features=768, bias=True)\n",
       "          )\n",
       "          (sa_layer_norm): LayerNorm((768,), eps=1e-12, elementwise_affine=True)\n",
       "          (ffn): FFN(\n",
       "            (dropout): Dropout(p=0.1, inplace=False)\n",
       "            (lin1): Linear(in_features=768, out_features=3072, bias=True)\n",
       "            (lin2): Linear(in_features=3072, out_features=768, bias=True)\n",
       "            (activation): GELUActivation()\n",
       "          )\n",
       "          (output_layer_norm): LayerNorm((768,), eps=1e-12, elementwise_affine=True)\n",
       "        )\n",
       "        (3): TransformerBlock(\n",
       "          (attention): MultiHeadSelfAttention(\n",
       "            (dropout): Dropout(p=0.1, inplace=False)\n",
       "            (q_lin): Linear(in_features=768, out_features=768, bias=True)\n",
       "            (k_lin): Linear(in_features=768, out_features=768, bias=True)\n",
       "            (v_lin): Linear(in_features=768, out_features=768, bias=True)\n",
       "            (out_lin): Linear(in_features=768, out_features=768, bias=True)\n",
       "          )\n",
       "          (sa_layer_norm): LayerNorm((768,), eps=1e-12, elementwise_affine=True)\n",
       "          (ffn): FFN(\n",
       "            (dropout): Dropout(p=0.1, inplace=False)\n",
       "            (lin1): Linear(in_features=768, out_features=3072, bias=True)\n",
       "            (lin2): Linear(in_features=3072, out_features=768, bias=True)\n",
       "            (activation): GELUActivation()\n",
       "          )\n",
       "          (output_layer_norm): LayerNorm((768,), eps=1e-12, elementwise_affine=True)\n",
       "        )\n",
       "        (4): TransformerBlock(\n",
       "          (attention): MultiHeadSelfAttention(\n",
       "            (dropout): Dropout(p=0.1, inplace=False)\n",
       "            (q_lin): Linear(in_features=768, out_features=768, bias=True)\n",
       "            (k_lin): Linear(in_features=768, out_features=768, bias=True)\n",
       "            (v_lin): Linear(in_features=768, out_features=768, bias=True)\n",
       "            (out_lin): Linear(in_features=768, out_features=768, bias=True)\n",
       "          )\n",
       "          (sa_layer_norm): LayerNorm((768,), eps=1e-12, elementwise_affine=True)\n",
       "          (ffn): FFN(\n",
       "            (dropout): Dropout(p=0.1, inplace=False)\n",
       "            (lin1): Linear(in_features=768, out_features=3072, bias=True)\n",
       "            (lin2): Linear(in_features=3072, out_features=768, bias=True)\n",
       "            (activation): GELUActivation()\n",
       "          )\n",
       "          (output_layer_norm): LayerNorm((768,), eps=1e-12, elementwise_affine=True)\n",
       "        )\n",
       "        (5): TransformerBlock(\n",
       "          (attention): MultiHeadSelfAttention(\n",
       "            (dropout): Dropout(p=0.1, inplace=False)\n",
       "            (q_lin): Linear(in_features=768, out_features=768, bias=True)\n",
       "            (k_lin): Linear(in_features=768, out_features=768, bias=True)\n",
       "            (v_lin): Linear(in_features=768, out_features=768, bias=True)\n",
       "            (out_lin): Linear(in_features=768, out_features=768, bias=True)\n",
       "          )\n",
       "          (sa_layer_norm): LayerNorm((768,), eps=1e-12, elementwise_affine=True)\n",
       "          (ffn): FFN(\n",
       "            (dropout): Dropout(p=0.1, inplace=False)\n",
       "            (lin1): Linear(in_features=768, out_features=3072, bias=True)\n",
       "            (lin2): Linear(in_features=3072, out_features=768, bias=True)\n",
       "            (activation): GELUActivation()\n",
       "          )\n",
       "          (output_layer_norm): LayerNorm((768,), eps=1e-12, elementwise_affine=True)\n",
       "        )\n",
       "      )\n",
       "    )\n",
       "  )\n",
       "  (pre_classifier): Linear(in_features=768, out_features=768, bias=True)\n",
       "  (classifier): Linear(in_features=768, out_features=18, bias=True)\n",
       "  (dropout): Dropout(p=0.2, inplace=False)\n",
       ")"
      ]
     },
     "execution_count": 13,
     "metadata": {},
     "output_type": "execute_result"
    }
   ],
   "source": [
    "import pandas as pd\n",
    "from sklearn.preprocessing import LabelEncoder\n",
    "from transformers import DistilBertTokenizerFast\n",
    "from sklearn.model_selection import train_test_split\n",
    "import torch\n",
    "from torch.utils.data import DataLoader\n",
    "from transformers import DistilBertForSequenceClassification, AdamW, TextClassificationPipeline\n",
    "le = LabelEncoder()\n",
    "device = torch.device('cuda') if torch.cuda.is_available() else torch.device('cpu')\n",
    "tokenizer = DistilBertTokenizerFast.from_pretrained('distilbert-base-uncased')\n",
    "model = DistilBertForSequenceClassification.from_pretrained('distilbert-base-uncased', num_labels=18)\n",
    "model.to(device)"
   ]
  },
  {
   "cell_type": "code",
   "execution_count": 2,
   "id": "b90bae82",
   "metadata": {
    "ExecuteTime": {
     "end_time": "2023-05-03T14:19:47.913310Z",
     "start_time": "2023-05-03T14:19:47.908395Z"
    }
   },
   "outputs": [],
   "source": [
    "class DatasetBuilding(torch.utils.data.Dataset):\n",
    "    def __init__(self, encodings, labels):\n",
    "        self.encodings = encodings\n",
    "        self.labels = labels\n",
    "\n",
    "    def __getitem__(self, idx):\n",
    "        item = {key: torch.tensor(val[idx]) for key, val in self.encodings.items()}\n",
    "        item['labels'] = torch.tensor(self.labels[idx])\n",
    "        return item\n",
    "\n",
    "    def __len__(self):\n",
    "        return len(self.labels)"
   ]
  },
  {
   "cell_type": "code",
   "execution_count": 6,
   "id": "1d32e6b0",
   "metadata": {
    "ExecuteTime": {
     "end_time": "2023-05-03T14:20:48.573401Z",
     "start_time": "2023-05-03T14:20:48.570527Z"
    }
   },
   "outputs": [],
   "source": [
    "# config params\n",
    "data_path = \"DATA/Cost_Category_TrainingData.xlsx\"\n",
    "data_sheet = \"TrainingData0421\""
   ]
  },
  {
   "cell_type": "code",
   "execution_count": 25,
   "id": "e1f43e04",
   "metadata": {
    "ExecuteTime": {
     "end_time": "2023-05-03T14:30:33.697903Z",
     "start_time": "2023-05-03T14:30:33.532343Z"
    }
   },
   "outputs": [
    {
     "name": "stderr",
     "output_type": "stream",
     "text": [
      "/opt/conda/lib/python3.8/site-packages/openpyxl/worksheet/_reader.py:312: UserWarning: Data Validation extension is not supported and will be removed\n",
      "  warn(msg)\n"
     ]
    },
    {
     "data": {
      "text/html": [
       "<div>\n",
       "<style scoped>\n",
       "    .dataframe tbody tr th:only-of-type {\n",
       "        vertical-align: middle;\n",
       "    }\n",
       "\n",
       "    .dataframe tbody tr th {\n",
       "        vertical-align: top;\n",
       "    }\n",
       "\n",
       "    .dataframe thead th {\n",
       "        text-align: right;\n",
       "    }\n",
       "</style>\n",
       "<table border=\"1\" class=\"dataframe\">\n",
       "  <thead>\n",
       "    <tr style=\"text-align: right;\">\n",
       "      <th></th>\n",
       "      <th>input</th>\n",
       "      <th>cost_category</th>\n",
       "    </tr>\n",
       "  </thead>\n",
       "  <tbody>\n",
       "    <tr>\n",
       "      <th>0</th>\n",
       "      <td>Salaries-Cleaning</td>\n",
       "      <td>Cleaning</td>\n",
       "    </tr>\n",
       "    <tr>\n",
       "      <th>1</th>\n",
       "      <td>Daily Cleaning Servi</td>\n",
       "      <td>Cleaning</td>\n",
       "    </tr>\n",
       "    <tr>\n",
       "      <th>2</th>\n",
       "      <td>Day Porter &amp; Matron</td>\n",
       "      <td>Cleaning</td>\n",
       "    </tr>\n",
       "    <tr>\n",
       "      <th>3</th>\n",
       "      <td>Window Cleaning</td>\n",
       "      <td>Cleaning</td>\n",
       "    </tr>\n",
       "    <tr>\n",
       "      <th>4</th>\n",
       "      <td>Carpet &amp; Door Mat Clean</td>\n",
       "      <td>Cleaning</td>\n",
       "    </tr>\n",
       "  </tbody>\n",
       "</table>\n",
       "</div>"
      ],
      "text/plain": [
       "                     input cost_category\n",
       "0        Salaries-Cleaning      Cleaning\n",
       "1     Daily Cleaning Servi      Cleaning\n",
       "2      Day Porter & Matron      Cleaning\n",
       "3          Window Cleaning      Cleaning\n",
       "4  Carpet & Door Mat Clean      Cleaning"
      ]
     },
     "execution_count": 25,
     "metadata": {},
     "output_type": "execute_result"
    }
   ],
   "source": [
    "raw_data = pd.read_excel(data_path, sheet_name=data_sheet)[['Category Description','GWS Insights Benchmarking Categories']].rename(columns={'Category Description':'input','GWS Insights Benchmarking Categories':'cost_category'}).drop_duplicates().reset_index().drop('index', axis=1).dropna()\n",
    "raw_data.head()"
   ]
  },
  {
   "cell_type": "code",
   "execution_count": 26,
   "id": "89bf3c35",
   "metadata": {
    "ExecuteTime": {
     "end_time": "2023-05-03T14:30:34.437037Z",
     "start_time": "2023-05-03T14:30:34.432558Z"
    }
   },
   "outputs": [
    {
     "data": {
      "text/plain": [
       "(1082, 2)"
      ]
     },
     "execution_count": 26,
     "metadata": {},
     "output_type": "execute_result"
    }
   ],
   "source": [
    "raw_data.shape"
   ]
  },
  {
   "cell_type": "code",
   "execution_count": 27,
   "id": "d7160714",
   "metadata": {
    "ExecuteTime": {
     "end_time": "2023-05-03T14:30:36.060099Z",
     "start_time": "2023-05-03T14:30:36.055387Z"
    }
   },
   "outputs": [
    {
     "data": {
      "text/plain": [
       "17"
      ]
     },
     "execution_count": 27,
     "metadata": {},
     "output_type": "execute_result"
    }
   ],
   "source": [
    "len(raw_data.cost_category.unique())"
   ]
  },
  {
   "cell_type": "code",
   "execution_count": 28,
   "id": "e687ce1a",
   "metadata": {
    "ExecuteTime": {
     "end_time": "2023-05-03T14:30:36.714294Z",
     "start_time": "2023-05-03T14:30:36.704497Z"
    }
   },
   "outputs": [
    {
     "data": {
      "text/html": [
       "<div>\n",
       "<style scoped>\n",
       "    .dataframe tbody tr th:only-of-type {\n",
       "        vertical-align: middle;\n",
       "    }\n",
       "\n",
       "    .dataframe tbody tr th {\n",
       "        vertical-align: top;\n",
       "    }\n",
       "\n",
       "    .dataframe thead th {\n",
       "        text-align: right;\n",
       "    }\n",
       "</style>\n",
       "<table border=\"1\" class=\"dataframe\">\n",
       "  <thead>\n",
       "    <tr style=\"text-align: right;\">\n",
       "      <th></th>\n",
       "      <th>input</th>\n",
       "      <th>cost_category</th>\n",
       "      <th>label</th>\n",
       "    </tr>\n",
       "  </thead>\n",
       "  <tbody>\n",
       "    <tr>\n",
       "      <th>0</th>\n",
       "      <td>Salaries-Cleaning</td>\n",
       "      <td>Cleaning</td>\n",
       "      <td>0</td>\n",
       "    </tr>\n",
       "    <tr>\n",
       "      <th>1</th>\n",
       "      <td>Daily Cleaning Servi</td>\n",
       "      <td>Cleaning</td>\n",
       "      <td>0</td>\n",
       "    </tr>\n",
       "    <tr>\n",
       "      <th>2</th>\n",
       "      <td>Day Porter &amp; Matron</td>\n",
       "      <td>Cleaning</td>\n",
       "      <td>0</td>\n",
       "    </tr>\n",
       "    <tr>\n",
       "      <th>3</th>\n",
       "      <td>Window Cleaning</td>\n",
       "      <td>Cleaning</td>\n",
       "      <td>0</td>\n",
       "    </tr>\n",
       "    <tr>\n",
       "      <th>4</th>\n",
       "      <td>Carpet &amp; Door Mat Clean</td>\n",
       "      <td>Cleaning</td>\n",
       "      <td>0</td>\n",
       "    </tr>\n",
       "  </tbody>\n",
       "</table>\n",
       "</div>"
      ],
      "text/plain": [
       "                     input cost_category  label\n",
       "0        Salaries-Cleaning      Cleaning      0\n",
       "1     Daily Cleaning Servi      Cleaning      0\n",
       "2      Day Porter & Matron      Cleaning      0\n",
       "3          Window Cleaning      Cleaning      0\n",
       "4  Carpet & Door Mat Clean      Cleaning      0"
      ]
     },
     "execution_count": 28,
     "metadata": {},
     "output_type": "execute_result"
    }
   ],
   "source": [
    "raw_data['label'] = le.fit_transform(raw_data['cost_category'])\n",
    "raw_data.head()"
   ]
  },
  {
   "cell_type": "code",
   "execution_count": 29,
   "id": "7dc30a3e",
   "metadata": {
    "ExecuteTime": {
     "end_time": "2023-05-03T14:30:37.364631Z",
     "start_time": "2023-05-03T14:30:37.360236Z"
    }
   },
   "outputs": [],
   "source": [
    "required_data = raw_data[['input','label']]"
   ]
  },
  {
   "cell_type": "code",
   "execution_count": 30,
   "id": "d1bb79ed",
   "metadata": {
    "ExecuteTime": {
     "end_time": "2023-05-03T14:30:38.095166Z",
     "start_time": "2023-05-03T14:30:38.090479Z"
    }
   },
   "outputs": [],
   "source": [
    "train_texts, test_texts, train_labels, test_labels = train_test_split(list(required_data['input']), list(required_data['label']), test_size=.2, shuffle=True)"
   ]
  },
  {
   "cell_type": "code",
   "execution_count": 31,
   "id": "a1f51129",
   "metadata": {
    "ExecuteTime": {
     "end_time": "2023-05-03T14:30:38.737320Z",
     "start_time": "2023-05-03T14:30:38.734604Z"
    }
   },
   "outputs": [],
   "source": [
    "#train_texts, val_texts, train_labels, val_labels = train_test_split(train_texts, train_labels, test_size=.2)\n",
    "#test_texts = list(required_data['input'])\n",
    "#test_labels = list(required_data['label'])"
   ]
  },
  {
   "cell_type": "code",
   "execution_count": 32,
   "id": "e1f676fb",
   "metadata": {
    "ExecuteTime": {
     "end_time": "2023-05-03T14:30:39.371442Z",
     "start_time": "2023-05-03T14:30:39.335678Z"
    }
   },
   "outputs": [],
   "source": [
    "train_encodings = tokenizer(train_texts, truncation=True, padding=True)\n",
    "#val_encodings = tokenizer(val_texts, truncation=True, padding=True)\n",
    "test_encodings = tokenizer(test_texts, truncation=True, padding=True)"
   ]
  },
  {
   "cell_type": "code",
   "execution_count": 33,
   "id": "a282b2cb",
   "metadata": {
    "ExecuteTime": {
     "end_time": "2023-05-03T14:31:00.224189Z",
     "start_time": "2023-05-03T14:31:00.219256Z"
    }
   },
   "outputs": [],
   "source": [
    "class BuildDataset(torch.utils.data.Dataset):\n",
    "    def __init__(self, encodings, labels):\n",
    "        self.encodings = encodings\n",
    "        self.labels = labels\n",
    "\n",
    "    def __getitem__(self, idx):\n",
    "        item = {key: torch.tensor(val[idx]) for key, val in self.encodings.items()}\n",
    "        item['labels'] = torch.tensor(self.labels[idx])\n",
    "        return item\n",
    "\n",
    "    def __len__(self):\n",
    "        return len(self.labels)\n",
    "\n",
    "train_dataset = BuildDataset(train_encodings, train_labels)\n",
    "test_dataset = BuildDataset(test_encodings, test_labels)"
   ]
  },
  {
   "cell_type": "code",
   "execution_count": 34,
   "id": "7c2e52c0",
   "metadata": {
    "ExecuteTime": {
     "end_time": "2023-05-03T14:33:01.820708Z",
     "start_time": "2023-05-03T14:31:02.343836Z"
    }
   },
   "outputs": [
    {
     "name": "stderr",
     "output_type": "stream",
     "text": [
      "/opt/conda/lib/python3.8/site-packages/transformers/optimization.py:306: FutureWarning: This implementation of AdamW is deprecated and will be removed in a future version. Use the PyTorch implementation torch.optim.AdamW instead, or set `no_deprecation_warning=True` to disable this warning\n",
      "  warnings.warn(\n"
     ]
    },
    {
     "data": {
      "text/plain": [
       "DistilBertForSequenceClassification(\n",
       "  (distilbert): DistilBertModel(\n",
       "    (embeddings): Embeddings(\n",
       "      (word_embeddings): Embedding(30522, 768, padding_idx=0)\n",
       "      (position_embeddings): Embedding(512, 768)\n",
       "      (LayerNorm): LayerNorm((768,), eps=1e-12, elementwise_affine=True)\n",
       "      (dropout): Dropout(p=0.1, inplace=False)\n",
       "    )\n",
       "    (transformer): Transformer(\n",
       "      (layer): ModuleList(\n",
       "        (0): TransformerBlock(\n",
       "          (attention): MultiHeadSelfAttention(\n",
       "            (dropout): Dropout(p=0.1, inplace=False)\n",
       "            (q_lin): Linear(in_features=768, out_features=768, bias=True)\n",
       "            (k_lin): Linear(in_features=768, out_features=768, bias=True)\n",
       "            (v_lin): Linear(in_features=768, out_features=768, bias=True)\n",
       "            (out_lin): Linear(in_features=768, out_features=768, bias=True)\n",
       "          )\n",
       "          (sa_layer_norm): LayerNorm((768,), eps=1e-12, elementwise_affine=True)\n",
       "          (ffn): FFN(\n",
       "            (dropout): Dropout(p=0.1, inplace=False)\n",
       "            (lin1): Linear(in_features=768, out_features=3072, bias=True)\n",
       "            (lin2): Linear(in_features=3072, out_features=768, bias=True)\n",
       "            (activation): GELUActivation()\n",
       "          )\n",
       "          (output_layer_norm): LayerNorm((768,), eps=1e-12, elementwise_affine=True)\n",
       "        )\n",
       "        (1): TransformerBlock(\n",
       "          (attention): MultiHeadSelfAttention(\n",
       "            (dropout): Dropout(p=0.1, inplace=False)\n",
       "            (q_lin): Linear(in_features=768, out_features=768, bias=True)\n",
       "            (k_lin): Linear(in_features=768, out_features=768, bias=True)\n",
       "            (v_lin): Linear(in_features=768, out_features=768, bias=True)\n",
       "            (out_lin): Linear(in_features=768, out_features=768, bias=True)\n",
       "          )\n",
       "          (sa_layer_norm): LayerNorm((768,), eps=1e-12, elementwise_affine=True)\n",
       "          (ffn): FFN(\n",
       "            (dropout): Dropout(p=0.1, inplace=False)\n",
       "            (lin1): Linear(in_features=768, out_features=3072, bias=True)\n",
       "            (lin2): Linear(in_features=3072, out_features=768, bias=True)\n",
       "            (activation): GELUActivation()\n",
       "          )\n",
       "          (output_layer_norm): LayerNorm((768,), eps=1e-12, elementwise_affine=True)\n",
       "        )\n",
       "        (2): TransformerBlock(\n",
       "          (attention): MultiHeadSelfAttention(\n",
       "            (dropout): Dropout(p=0.1, inplace=False)\n",
       "            (q_lin): Linear(in_features=768, out_features=768, bias=True)\n",
       "            (k_lin): Linear(in_features=768, out_features=768, bias=True)\n",
       "            (v_lin): Linear(in_features=768, out_features=768, bias=True)\n",
       "            (out_lin): Linear(in_features=768, out_features=768, bias=True)\n",
       "          )\n",
       "          (sa_layer_norm): LayerNorm((768,), eps=1e-12, elementwise_affine=True)\n",
       "          (ffn): FFN(\n",
       "            (dropout): Dropout(p=0.1, inplace=False)\n",
       "            (lin1): Linear(in_features=768, out_features=3072, bias=True)\n",
       "            (lin2): Linear(in_features=3072, out_features=768, bias=True)\n",
       "            (activation): GELUActivation()\n",
       "          )\n",
       "          (output_layer_norm): LayerNorm((768,), eps=1e-12, elementwise_affine=True)\n",
       "        )\n",
       "        (3): TransformerBlock(\n",
       "          (attention): MultiHeadSelfAttention(\n",
       "            (dropout): Dropout(p=0.1, inplace=False)\n",
       "            (q_lin): Linear(in_features=768, out_features=768, bias=True)\n",
       "            (k_lin): Linear(in_features=768, out_features=768, bias=True)\n",
       "            (v_lin): Linear(in_features=768, out_features=768, bias=True)\n",
       "            (out_lin): Linear(in_features=768, out_features=768, bias=True)\n",
       "          )\n",
       "          (sa_layer_norm): LayerNorm((768,), eps=1e-12, elementwise_affine=True)\n",
       "          (ffn): FFN(\n",
       "            (dropout): Dropout(p=0.1, inplace=False)\n",
       "            (lin1): Linear(in_features=768, out_features=3072, bias=True)\n",
       "            (lin2): Linear(in_features=3072, out_features=768, bias=True)\n",
       "            (activation): GELUActivation()\n",
       "          )\n",
       "          (output_layer_norm): LayerNorm((768,), eps=1e-12, elementwise_affine=True)\n",
       "        )\n",
       "        (4): TransformerBlock(\n",
       "          (attention): MultiHeadSelfAttention(\n",
       "            (dropout): Dropout(p=0.1, inplace=False)\n",
       "            (q_lin): Linear(in_features=768, out_features=768, bias=True)\n",
       "            (k_lin): Linear(in_features=768, out_features=768, bias=True)\n",
       "            (v_lin): Linear(in_features=768, out_features=768, bias=True)\n",
       "            (out_lin): Linear(in_features=768, out_features=768, bias=True)\n",
       "          )\n",
       "          (sa_layer_norm): LayerNorm((768,), eps=1e-12, elementwise_affine=True)\n",
       "          (ffn): FFN(\n",
       "            (dropout): Dropout(p=0.1, inplace=False)\n",
       "            (lin1): Linear(in_features=768, out_features=3072, bias=True)\n",
       "            (lin2): Linear(in_features=3072, out_features=768, bias=True)\n",
       "            (activation): GELUActivation()\n",
       "          )\n",
       "          (output_layer_norm): LayerNorm((768,), eps=1e-12, elementwise_affine=True)\n",
       "        )\n",
       "        (5): TransformerBlock(\n",
       "          (attention): MultiHeadSelfAttention(\n",
       "            (dropout): Dropout(p=0.1, inplace=False)\n",
       "            (q_lin): Linear(in_features=768, out_features=768, bias=True)\n",
       "            (k_lin): Linear(in_features=768, out_features=768, bias=True)\n",
       "            (v_lin): Linear(in_features=768, out_features=768, bias=True)\n",
       "            (out_lin): Linear(in_features=768, out_features=768, bias=True)\n",
       "          )\n",
       "          (sa_layer_norm): LayerNorm((768,), eps=1e-12, elementwise_affine=True)\n",
       "          (ffn): FFN(\n",
       "            (dropout): Dropout(p=0.1, inplace=False)\n",
       "            (lin1): Linear(in_features=768, out_features=3072, bias=True)\n",
       "            (lin2): Linear(in_features=3072, out_features=768, bias=True)\n",
       "            (activation): GELUActivation()\n",
       "          )\n",
       "          (output_layer_norm): LayerNorm((768,), eps=1e-12, elementwise_affine=True)\n",
       "        )\n",
       "      )\n",
       "    )\n",
       "  )\n",
       "  (pre_classifier): Linear(in_features=768, out_features=768, bias=True)\n",
       "  (classifier): Linear(in_features=768, out_features=18, bias=True)\n",
       "  (dropout): Dropout(p=0.2, inplace=False)\n",
       ")"
      ]
     },
     "execution_count": 34,
     "metadata": {},
     "output_type": "execute_result"
    }
   ],
   "source": [
    "model.train()\n",
    "train_loader = DataLoader(train_dataset, batch_size=16, shuffle=True)\n",
    "optim = AdamW(model.parameters(), lr=5e-5)\n",
    "for epoch in range(5):\n",
    "    for batch in train_loader:\n",
    "        optim.zero_grad()\n",
    "        input_ids = batch['input_ids'].to(device)\n",
    "        attention_mask = batch['attention_mask'].to(device)\n",
    "        labels = batch['labels'].to(device)\n",
    "        outputs = model(input_ids, attention_mask=attention_mask, labels=labels)\n",
    "        loss = outputs[0]\n",
    "        loss.backward()\n",
    "        optim.step()\n",
    "\n",
    "model.eval()"
   ]
  },
  {
   "cell_type": "code",
   "execution_count": 35,
   "id": "01e20e91",
   "metadata": {
    "ExecuteTime": {
     "end_time": "2023-05-03T14:33:06.681513Z",
     "start_time": "2023-05-03T14:33:06.293929Z"
    }
   },
   "outputs": [
    {
     "name": "stderr",
     "output_type": "stream",
     "text": [
      "/opt/conda/lib/python3.8/site-packages/transformers/pipelines/text_classification.py:104: UserWarning: `return_all_scores` is now deprecated,  if want a similar funcionality use `top_k=None` instead of `return_all_scores=True` or `top_k=1` instead of `return_all_scores=False`.\n",
      "  warnings.warn(\n"
     ]
    }
   ],
   "source": [
    "pipe = TextClassificationPipeline(model=model, tokenizer=tokenizer, return_all_scores=True)"
   ]
  },
  {
   "cell_type": "code",
   "execution_count": 36,
   "id": "63025d7c",
   "metadata": {
    "ExecuteTime": {
     "end_time": "2023-05-03T14:33:14.719702Z",
     "start_time": "2023-05-03T14:33:14.447183Z"
    }
   },
   "outputs": [],
   "source": [
    "import pickle\n",
    "with open(\"embedding_model_5_3.pkl\",\"wb\") as f:\n",
    "    pickle.dump(model, f)"
   ]
  },
  {
   "cell_type": "code",
   "execution_count": 37,
   "id": "984dc8cd",
   "metadata": {
    "ExecuteTime": {
     "end_time": "2023-05-03T14:33:21.859918Z",
     "start_time": "2023-05-03T14:33:21.856131Z"
    }
   },
   "outputs": [],
   "source": [
    "import pickle\n",
    "with open(\"label_enc_5_3.pkl\",\"wb\") as f:\n",
    "    pickle.dump(le, f)"
   ]
  },
  {
   "cell_type": "code",
   "execution_count": 38,
   "id": "6d837165",
   "metadata": {
    "ExecuteTime": {
     "end_time": "2023-05-03T14:33:36.197792Z",
     "start_time": "2023-05-03T14:33:32.019624Z"
    }
   },
   "outputs": [],
   "source": [
    "predicted_labels = []\n",
    "for single_text in test_texts:\n",
    "    predicted_labels.append(int(sorted(pipe(single_text)[0], key=lambda item: item[\"score\"], reverse=True)[0]['label'].split('_')[1]))"
   ]
  },
  {
   "cell_type": "code",
   "execution_count": 39,
   "id": "43c3451a",
   "metadata": {
    "ExecuteTime": {
     "end_time": "2023-05-03T14:33:38.901890Z",
     "start_time": "2023-05-03T14:33:38.896027Z"
    }
   },
   "outputs": [],
   "source": [
    "res_dict = {'input':test_texts, 'predicted':predicted_labels, 'actual':test_labels}\n",
    "evaluation_dataframe = pd.DataFrame(res_dict)\n",
    "evaluation_dataframe['match'] = evaluation_dataframe['predicted']==evaluation_dataframe['actual']"
   ]
  },
  {
   "cell_type": "code",
   "execution_count": 40,
   "id": "55a5c12f",
   "metadata": {
    "ExecuteTime": {
     "end_time": "2023-05-03T14:33:40.997470Z",
     "start_time": "2023-05-03T14:33:40.991775Z"
    }
   },
   "outputs": [
    {
     "data": {
      "text/plain": [
       "0.7004608294930875"
      ]
     },
     "execution_count": 40,
     "metadata": {},
     "output_type": "execute_result"
    }
   ],
   "source": [
    "correct_count = sum(evaluation_dataframe['match'].values)\n",
    "actual_count = len(evaluation_dataframe)\n",
    "accuracy = correct_count/actual_count\n",
    "accuracy"
   ]
  },
  {
   "cell_type": "code",
   "execution_count": 17,
   "id": "643a792b",
   "metadata": {
    "ExecuteTime": {
     "end_time": "2023-04-21T03:33:34.970145Z",
     "start_time": "2023-04-21T03:33:34.967313Z"
    }
   },
   "outputs": [],
   "source": [
    "# Training 1 = 0.6444444444444445\n",
    "# Training 2 = 0.7\n",
    "# Training 3 = 0.6333333333333333\n",
    "# Training 4 = 0.6888888888888889\n",
    "# Training 5 = 0.6444444444444445"
   ]
  },
  {
   "cell_type": "code",
   "execution_count": 38,
   "id": "ba84f52a",
   "metadata": {
    "ExecuteTime": {
     "end_time": "2023-03-28T20:07:37.807194Z",
     "start_time": "2023-03-28T20:07:37.804467Z"
    }
   },
   "outputs": [],
   "source": [
    "#(0.6444444444444445+0.7+0.6333333333333333+0.6888888888888889+0.6444444444444445)/5"
   ]
  },
  {
   "cell_type": "code",
   "execution_count": 41,
   "id": "da99fcb3",
   "metadata": {
    "ExecuteTime": {
     "end_time": "2023-05-03T14:34:01.825800Z",
     "start_time": "2023-05-03T14:34:01.798540Z"
    }
   },
   "outputs": [],
   "source": [
    "evaluation_dataframe.to_excel('test_data_results_5_3.xlsx', index=False)"
   ]
  },
  {
   "cell_type": "code",
   "execution_count": 42,
   "id": "c4180b45",
   "metadata": {
    "ExecuteTime": {
     "end_time": "2023-05-03T14:34:03.630273Z",
     "start_time": "2023-05-03T14:34:03.623597Z"
    }
   },
   "outputs": [],
   "source": [
    "failed_data = evaluation_dataframe[evaluation_dataframe['match']==0]"
   ]
  },
  {
   "cell_type": "code",
   "execution_count": 43,
   "id": "c7ca48b2",
   "metadata": {
    "ExecuteTime": {
     "end_time": "2023-05-03T14:34:07.548220Z",
     "start_time": "2023-05-03T14:34:07.525456Z"
    }
   },
   "outputs": [
    {
     "name": "stderr",
     "output_type": "stream",
     "text": [
      "<ipython-input-43-ad7cb43b2792>:1: SettingWithCopyWarning: \n",
      "A value is trying to be set on a copy of a slice from a DataFrame.\n",
      "Try using .loc[row_indexer,col_indexer] = value instead\n",
      "\n",
      "See the caveats in the documentation: https://pandas.pydata.org/pandas-docs/stable/user_guide/indexing.html#returning-a-view-versus-a-copy\n",
      "  failed_data['predicted_cat'] =failed_data['predicted'].apply(lambda x: le.inverse_transform([x])[0])\n",
      "<ipython-input-43-ad7cb43b2792>:2: SettingWithCopyWarning: \n",
      "A value is trying to be set on a copy of a slice from a DataFrame.\n",
      "Try using .loc[row_indexer,col_indexer] = value instead\n",
      "\n",
      "See the caveats in the documentation: https://pandas.pydata.org/pandas-docs/stable/user_guide/indexing.html#returning-a-view-versus-a-copy\n",
      "  failed_data['actual_cat'] =failed_data['actual'].apply(lambda x: le.inverse_transform([x])[0])\n"
     ]
    },
    {
     "data": {
      "text/html": [
       "<div>\n",
       "<style scoped>\n",
       "    .dataframe tbody tr th:only-of-type {\n",
       "        vertical-align: middle;\n",
       "    }\n",
       "\n",
       "    .dataframe tbody tr th {\n",
       "        vertical-align: top;\n",
       "    }\n",
       "\n",
       "    .dataframe thead th {\n",
       "        text-align: right;\n",
       "    }\n",
       "</style>\n",
       "<table border=\"1\" class=\"dataframe\">\n",
       "  <thead>\n",
       "    <tr style=\"text-align: right;\">\n",
       "      <th></th>\n",
       "      <th>input</th>\n",
       "      <th>predicted</th>\n",
       "      <th>actual</th>\n",
       "      <th>match</th>\n",
       "      <th>predicted_cat</th>\n",
       "      <th>actual_cat</th>\n",
       "    </tr>\n",
       "  </thead>\n",
       "  <tbody>\n",
       "    <tr>\n",
       "      <th>3</th>\n",
       "      <td>Business Services</td>\n",
       "      <td>8</td>\n",
       "      <td>9</td>\n",
       "      <td>False</td>\n",
       "      <td>Other Business Services</td>\n",
       "      <td>Other Office Services</td>\n",
       "    </tr>\n",
       "    <tr>\n",
       "      <th>8</th>\n",
       "      <td>Powerwashing</td>\n",
       "      <td>0</td>\n",
       "      <td>6</td>\n",
       "      <td>False</td>\n",
       "      <td>Cleaning</td>\n",
       "      <td>General R&amp;M</td>\n",
       "    </tr>\n",
       "    <tr>\n",
       "      <th>11</th>\n",
       "      <td>Landscape Design and Installation</td>\n",
       "      <td>6</td>\n",
       "      <td>12</td>\n",
       "      <td>False</td>\n",
       "      <td>General R&amp;M</td>\n",
       "      <td>Roads &amp; Grounds</td>\n",
       "    </tr>\n",
       "    <tr>\n",
       "      <th>13</th>\n",
       "      <td>Data / Internet</td>\n",
       "      <td>9</td>\n",
       "      <td>14</td>\n",
       "      <td>False</td>\n",
       "      <td>Other Office Services</td>\n",
       "      <td>Telecommunications</td>\n",
       "    </tr>\n",
       "    <tr>\n",
       "      <th>23</th>\n",
       "      <td>Video Conferencing Providers</td>\n",
       "      <td>14</td>\n",
       "      <td>9</td>\n",
       "      <td>False</td>\n",
       "      <td>Telecommunications</td>\n",
       "      <td>Other Office Services</td>\n",
       "    </tr>\n",
       "  </tbody>\n",
       "</table>\n",
       "</div>"
      ],
      "text/plain": [
       "                                input  predicted  actual  match  \\\n",
       "3                   Business Services          8       9  False   \n",
       "8                        Powerwashing          0       6  False   \n",
       "11  Landscape Design and Installation          6      12  False   \n",
       "13                    Data / Internet          9      14  False   \n",
       "23       Video Conferencing Providers         14       9  False   \n",
       "\n",
       "              predicted_cat             actual_cat  \n",
       "3   Other Business Services  Other Office Services  \n",
       "8                  Cleaning            General R&M  \n",
       "11              General R&M        Roads & Grounds  \n",
       "13    Other Office Services     Telecommunications  \n",
       "23       Telecommunications  Other Office Services  "
      ]
     },
     "execution_count": 43,
     "metadata": {},
     "output_type": "execute_result"
    }
   ],
   "source": [
    "failed_data['predicted_cat'] =failed_data['predicted'].apply(lambda x: le.inverse_transform([x])[0])\n",
    "failed_data['actual_cat'] =failed_data['actual'].apply(lambda x: le.inverse_transform([x])[0])\n",
    "failed_data.head()"
   ]
  },
  {
   "cell_type": "code",
   "execution_count": 44,
   "id": "e25bd5ee",
   "metadata": {
    "ExecuteTime": {
     "end_time": "2023-05-03T14:34:31.906323Z",
     "start_time": "2023-05-03T14:34:31.886832Z"
    }
   },
   "outputs": [],
   "source": [
    "failed_data.to_excel('full_failed_data_5_3.xlsx', index=False)"
   ]
  },
  {
   "cell_type": "code",
   "execution_count": 45,
   "id": "df5492ed",
   "metadata": {
    "ExecuteTime": {
     "end_time": "2023-05-03T14:34:59.802840Z",
     "start_time": "2023-05-03T14:34:59.765257Z"
    }
   },
   "outputs": [
    {
     "data": {
      "text/html": [
       "<div>\n",
       "<style scoped>\n",
       "    .dataframe tbody tr th:only-of-type {\n",
       "        vertical-align: middle;\n",
       "    }\n",
       "\n",
       "    .dataframe tbody tr th {\n",
       "        vertical-align: top;\n",
       "    }\n",
       "\n",
       "    .dataframe thead th {\n",
       "        text-align: right;\n",
       "    }\n",
       "</style>\n",
       "<table border=\"1\" class=\"dataframe\">\n",
       "  <thead>\n",
       "    <tr style=\"text-align: right;\">\n",
       "      <th></th>\n",
       "      <th>input</th>\n",
       "      <th>predicted</th>\n",
       "      <th>actual</th>\n",
       "      <th>match</th>\n",
       "      <th>predicted_cat</th>\n",
       "      <th>actual_cat</th>\n",
       "    </tr>\n",
       "  </thead>\n",
       "  <tbody>\n",
       "    <tr>\n",
       "      <th>0</th>\n",
       "      <td>Mobile Vending</td>\n",
       "      <td>9</td>\n",
       "      <td>9</td>\n",
       "      <td>True</td>\n",
       "      <td>Other Office Services</td>\n",
       "      <td>Other Office Services</td>\n",
       "    </tr>\n",
       "    <tr>\n",
       "      <th>1</th>\n",
       "      <td>Travel</td>\n",
       "      <td>8</td>\n",
       "      <td>8</td>\n",
       "      <td>True</td>\n",
       "      <td>Other Business Services</td>\n",
       "      <td>Other Business Services</td>\n",
       "    </tr>\n",
       "    <tr>\n",
       "      <th>2</th>\n",
       "      <td>Fire Materials</td>\n",
       "      <td>5</td>\n",
       "      <td>5</td>\n",
       "      <td>True</td>\n",
       "      <td>Fire/Life/Safety</td>\n",
       "      <td>Fire/Life/Safety</td>\n",
       "    </tr>\n",
       "    <tr>\n",
       "      <th>3</th>\n",
       "      <td>Business Services</td>\n",
       "      <td>8</td>\n",
       "      <td>9</td>\n",
       "      <td>False</td>\n",
       "      <td>Other Business Services</td>\n",
       "      <td>Other Office Services</td>\n",
       "    </tr>\n",
       "    <tr>\n",
       "      <th>4</th>\n",
       "      <td>N/R Supplies/Materials</td>\n",
       "      <td>6</td>\n",
       "      <td>6</td>\n",
       "      <td>True</td>\n",
       "      <td>General R&amp;M</td>\n",
       "      <td>General R&amp;M</td>\n",
       "    </tr>\n",
       "  </tbody>\n",
       "</table>\n",
       "</div>"
      ],
      "text/plain": [
       "                    input  predicted  actual  match            predicted_cat  \\\n",
       "0          Mobile Vending          9       9   True    Other Office Services   \n",
       "1                  Travel          8       8   True  Other Business Services   \n",
       "2          Fire Materials          5       5   True         Fire/Life/Safety   \n",
       "3       Business Services          8       9  False  Other Business Services   \n",
       "4  N/R Supplies/Materials          6       6   True              General R&M   \n",
       "\n",
       "                actual_cat  \n",
       "0    Other Office Services  \n",
       "1  Other Business Services  \n",
       "2         Fire/Life/Safety  \n",
       "3    Other Office Services  \n",
       "4              General R&M  "
      ]
     },
     "execution_count": 45,
     "metadata": {},
     "output_type": "execute_result"
    }
   ],
   "source": [
    "evaluation_dataframe['predicted_cat'] =evaluation_dataframe['predicted'].apply(lambda x: le.inverse_transform([x])[0])\n",
    "evaluation_dataframe['actual_cat'] =evaluation_dataframe['actual'].apply(lambda x: le.inverse_transform([x])[0])\n",
    "evaluation_dataframe.head()"
   ]
  },
  {
   "cell_type": "code",
   "execution_count": 46,
   "id": "84fab4fa",
   "metadata": {
    "ExecuteTime": {
     "end_time": "2023-05-03T14:35:05.010092Z",
     "start_time": "2023-05-03T14:35:04.973813Z"
    }
   },
   "outputs": [],
   "source": [
    "evaluation_dataframe.to_excel('full_data_results_with_labels_5_3.xlsx', index=False)"
   ]
  },
  {
   "cell_type": "code",
   "execution_count": 47,
   "id": "922f36d2",
   "metadata": {
    "ExecuteTime": {
     "end_time": "2023-05-03T14:35:17.511048Z",
     "start_time": "2023-05-03T14:35:17.507238Z"
    }
   },
   "outputs": [],
   "source": [
    "def converter(label_list):\n",
    "    new_list = []\n",
    "    for val in label_list:\n",
    "        new_dict = {}\n",
    "        new_dict[le.inverse_transform([int(val['label'].split('_')[1])])[0]] = round(val['score']*100,2)\n",
    "        new_list.append(new_dict)\n",
    "    return new_list"
   ]
  },
  {
   "cell_type": "code",
   "execution_count": 48,
   "id": "268cb97f",
   "metadata": {
    "ExecuteTime": {
     "end_time": "2023-05-03T14:35:32.862171Z",
     "start_time": "2023-05-03T14:35:31.510652Z"
    }
   },
   "outputs": [
    {
     "name": "stderr",
     "output_type": "stream",
     "text": [
      "<ipython-input-48-8d3ddde87da3>:2: SettingWithCopyWarning: \n",
      "A value is trying to be set on a copy of a slice from a DataFrame.\n",
      "Try using .loc[row_indexer,col_indexer] = value instead\n",
      "\n",
      "See the caveats in the documentation: https://pandas.pydata.org/pandas-docs/stable/user_guide/indexing.html#returning-a-view-versus-a-copy\n",
      "  multiple_predictions['all_predictions'] = multiple_predictions['input'].apply(lambda x:converter(sorted(pipe(x)[0], key=lambda item: item[\"score\"], reverse=True)[:5]))\n"
     ]
    },
    {
     "data": {
      "text/html": [
       "<div>\n",
       "<style scoped>\n",
       "    .dataframe tbody tr th:only-of-type {\n",
       "        vertical-align: middle;\n",
       "    }\n",
       "\n",
       "    .dataframe tbody tr th {\n",
       "        vertical-align: top;\n",
       "    }\n",
       "\n",
       "    .dataframe thead th {\n",
       "        text-align: right;\n",
       "    }\n",
       "</style>\n",
       "<table border=\"1\" class=\"dataframe\">\n",
       "  <thead>\n",
       "    <tr style=\"text-align: right;\">\n",
       "      <th></th>\n",
       "      <th>input</th>\n",
       "      <th>actual_cat</th>\n",
       "      <th>all_predictions</th>\n",
       "    </tr>\n",
       "  </thead>\n",
       "  <tbody>\n",
       "    <tr>\n",
       "      <th>3</th>\n",
       "      <td>Business Services</td>\n",
       "      <td>Other Office Services</td>\n",
       "      <td>[{'Other Business Services': 94.05}, {'Real Es...</td>\n",
       "    </tr>\n",
       "    <tr>\n",
       "      <th>8</th>\n",
       "      <td>Powerwashing</td>\n",
       "      <td>General R&amp;M</td>\n",
       "      <td>[{'Cleaning': 53.84}, {'Other Office Services'...</td>\n",
       "    </tr>\n",
       "    <tr>\n",
       "      <th>11</th>\n",
       "      <td>Landscape Design and Installation</td>\n",
       "      <td>Roads &amp; Grounds</td>\n",
       "      <td>[{'General R&amp;M': 67.51}, {'Roads &amp; Grounds': 2...</td>\n",
       "    </tr>\n",
       "    <tr>\n",
       "      <th>13</th>\n",
       "      <td>Data / Internet</td>\n",
       "      <td>Telecommunications</td>\n",
       "      <td>[{'Other Office Services': 39.22}, {'Telecommu...</td>\n",
       "    </tr>\n",
       "    <tr>\n",
       "      <th>23</th>\n",
       "      <td>Video Conferencing Providers</td>\n",
       "      <td>Other Office Services</td>\n",
       "      <td>[{'Telecommunications': 65.69}, {'Other Office...</td>\n",
       "    </tr>\n",
       "    <tr>\n",
       "      <th>...</th>\n",
       "      <td>...</td>\n",
       "      <td>...</td>\n",
       "      <td>...</td>\n",
       "    </tr>\n",
       "    <tr>\n",
       "      <th>201</th>\n",
       "      <td>Waste Management</td>\n",
       "      <td>Water &amp; Sewer</td>\n",
       "      <td>[{'Waste': 63.98}, {'Other Office Services': 1...</td>\n",
       "    </tr>\n",
       "    <tr>\n",
       "      <th>204</th>\n",
       "      <td>N/R HVAC Contracts &amp; Ma</td>\n",
       "      <td>HVAC</td>\n",
       "      <td>[{'General R&amp;M': 96.42}, {'HVAC': 1.41}, {'Con...</td>\n",
       "    </tr>\n",
       "    <tr>\n",
       "      <th>210</th>\n",
       "      <td>Battery Recycling</td>\n",
       "      <td>Waste</td>\n",
       "      <td>[{'Other Office Services': 67.98}, {'Electrica...</td>\n",
       "    </tr>\n",
       "    <tr>\n",
       "      <th>213</th>\n",
       "      <td>HVAC Supplies</td>\n",
       "      <td>HVAC</td>\n",
       "      <td>[{'General R&amp;M': 45.06}, {'HVAC': 32.37}, {'Ot...</td>\n",
       "    </tr>\n",
       "    <tr>\n",
       "      <th>214</th>\n",
       "      <td>ServiceInsight Cost</td>\n",
       "      <td>Telecommunications</td>\n",
       "      <td>[{'Other Office Services': 86.34}, {'Telecommu...</td>\n",
       "    </tr>\n",
       "  </tbody>\n",
       "</table>\n",
       "<p>65 rows × 3 columns</p>\n",
       "</div>"
      ],
      "text/plain": [
       "                                 input             actual_cat  \\\n",
       "3                    Business Services  Other Office Services   \n",
       "8                         Powerwashing            General R&M   \n",
       "11   Landscape Design and Installation        Roads & Grounds   \n",
       "13                     Data / Internet     Telecommunications   \n",
       "23        Video Conferencing Providers  Other Office Services   \n",
       "..                                 ...                    ...   \n",
       "201                  Waste Management           Water & Sewer   \n",
       "204            N/R HVAC Contracts & Ma                   HVAC   \n",
       "210                  Battery Recycling                  Waste   \n",
       "213                      HVAC Supplies                   HVAC   \n",
       "214                ServiceInsight Cost     Telecommunications   \n",
       "\n",
       "                                       all_predictions  \n",
       "3    [{'Other Business Services': 94.05}, {'Real Es...  \n",
       "8    [{'Cleaning': 53.84}, {'Other Office Services'...  \n",
       "11   [{'General R&M': 67.51}, {'Roads & Grounds': 2...  \n",
       "13   [{'Other Office Services': 39.22}, {'Telecommu...  \n",
       "23   [{'Telecommunications': 65.69}, {'Other Office...  \n",
       "..                                                 ...  \n",
       "201  [{'Waste': 63.98}, {'Other Office Services': 1...  \n",
       "204  [{'General R&M': 96.42}, {'HVAC': 1.41}, {'Con...  \n",
       "210  [{'Other Office Services': 67.98}, {'Electrica...  \n",
       "213  [{'General R&M': 45.06}, {'HVAC': 32.37}, {'Ot...  \n",
       "214  [{'Other Office Services': 86.34}, {'Telecommu...  \n",
       "\n",
       "[65 rows x 3 columns]"
      ]
     },
     "execution_count": 48,
     "metadata": {},
     "output_type": "execute_result"
    }
   ],
   "source": [
    "multiple_predictions = failed_data[['input','actual_cat']]\n",
    "multiple_predictions['all_predictions'] = multiple_predictions['input'].apply(lambda x:converter(sorted(pipe(x)[0], key=lambda item: item[\"score\"], reverse=True)[:5]))\n",
    "multiple_predictions"
   ]
  },
  {
   "cell_type": "code",
   "execution_count": 49,
   "id": "332fe229",
   "metadata": {
    "ExecuteTime": {
     "end_time": "2023-05-03T14:35:36.434845Z",
     "start_time": "2023-05-03T14:35:36.420185Z"
    }
   },
   "outputs": [
    {
     "data": {
      "text/html": [
       "<div>\n",
       "<style scoped>\n",
       "    .dataframe tbody tr th:only-of-type {\n",
       "        vertical-align: middle;\n",
       "    }\n",
       "\n",
       "    .dataframe tbody tr th {\n",
       "        vertical-align: top;\n",
       "    }\n",
       "\n",
       "    .dataframe thead th {\n",
       "        text-align: right;\n",
       "    }\n",
       "</style>\n",
       "<table border=\"1\" class=\"dataframe\">\n",
       "  <thead>\n",
       "    <tr style=\"text-align: right;\">\n",
       "      <th></th>\n",
       "      <th>input</th>\n",
       "      <th>actual_cat</th>\n",
       "      <th>all_predictions</th>\n",
       "    </tr>\n",
       "  </thead>\n",
       "  <tbody>\n",
       "    <tr>\n",
       "      <th>3</th>\n",
       "      <td>Business Services</td>\n",
       "      <td>Other Office Services</td>\n",
       "      <td>{'Other Business Services': 94.05}</td>\n",
       "    </tr>\n",
       "    <tr>\n",
       "      <th>3</th>\n",
       "      <td>Business Services</td>\n",
       "      <td>Other Office Services</td>\n",
       "      <td>{'Real Estate Expense': 2.92}</td>\n",
       "    </tr>\n",
       "    <tr>\n",
       "      <th>3</th>\n",
       "      <td>Business Services</td>\n",
       "      <td>Other Office Services</td>\n",
       "      <td>{'Other Office Services': 0.95}</td>\n",
       "    </tr>\n",
       "    <tr>\n",
       "      <th>3</th>\n",
       "      <td>Business Services</td>\n",
       "      <td>Other Office Services</td>\n",
       "      <td>{'Telecommunications': 0.41}</td>\n",
       "    </tr>\n",
       "    <tr>\n",
       "      <th>3</th>\n",
       "      <td>Business Services</td>\n",
       "      <td>Other Office Services</td>\n",
       "      <td>{'Security': 0.37}</td>\n",
       "    </tr>\n",
       "  </tbody>\n",
       "</table>\n",
       "</div>"
      ],
      "text/plain": [
       "               input             actual_cat  \\\n",
       "3  Business Services  Other Office Services   \n",
       "3  Business Services  Other Office Services   \n",
       "3  Business Services  Other Office Services   \n",
       "3  Business Services  Other Office Services   \n",
       "3  Business Services  Other Office Services   \n",
       "\n",
       "                      all_predictions  \n",
       "3  {'Other Business Services': 94.05}  \n",
       "3       {'Real Estate Expense': 2.92}  \n",
       "3     {'Other Office Services': 0.95}  \n",
       "3        {'Telecommunications': 0.41}  \n",
       "3                  {'Security': 0.37}  "
      ]
     },
     "execution_count": 49,
     "metadata": {},
     "output_type": "execute_result"
    }
   ],
   "source": [
    "multiple_predictions = multiple_predictions.explode('all_predictions')\n",
    "multiple_predictions.head()"
   ]
  },
  {
   "cell_type": "code",
   "execution_count": 54,
   "id": "bf471b6b",
   "metadata": {
    "ExecuteTime": {
     "end_time": "2023-05-03T14:38:11.998183Z",
     "start_time": "2023-05-03T14:38:11.983227Z"
    }
   },
   "outputs": [
    {
     "data": {
      "text/html": [
       "<div>\n",
       "<style scoped>\n",
       "    .dataframe tbody tr th:only-of-type {\n",
       "        vertical-align: middle;\n",
       "    }\n",
       "\n",
       "    .dataframe tbody tr th {\n",
       "        vertical-align: top;\n",
       "    }\n",
       "\n",
       "    .dataframe thead th {\n",
       "        text-align: right;\n",
       "    }\n",
       "</style>\n",
       "<table border=\"1\" class=\"dataframe\">\n",
       "  <thead>\n",
       "    <tr style=\"text-align: right;\">\n",
       "      <th></th>\n",
       "      <th>input</th>\n",
       "      <th>actual_cat</th>\n",
       "      <th>all_predictions</th>\n",
       "      <th>predicted_category</th>\n",
       "      <th>prediction_probability</th>\n",
       "    </tr>\n",
       "  </thead>\n",
       "  <tbody>\n",
       "    <tr>\n",
       "      <th>3</th>\n",
       "      <td>Business Services</td>\n",
       "      <td>Other Office Services</td>\n",
       "      <td>{'Other Business Services': 94.05}</td>\n",
       "      <td>Other Business Services</td>\n",
       "      <td>94.05</td>\n",
       "    </tr>\n",
       "    <tr>\n",
       "      <th>3</th>\n",
       "      <td>Business Services</td>\n",
       "      <td>Other Office Services</td>\n",
       "      <td>{'Real Estate Expense': 2.92}</td>\n",
       "      <td>Real Estate Expense</td>\n",
       "      <td>2.92</td>\n",
       "    </tr>\n",
       "    <tr>\n",
       "      <th>3</th>\n",
       "      <td>Business Services</td>\n",
       "      <td>Other Office Services</td>\n",
       "      <td>{'Other Office Services': 0.95}</td>\n",
       "      <td>Other Office Services</td>\n",
       "      <td>0.95</td>\n",
       "    </tr>\n",
       "    <tr>\n",
       "      <th>3</th>\n",
       "      <td>Business Services</td>\n",
       "      <td>Other Office Services</td>\n",
       "      <td>{'Telecommunications': 0.41}</td>\n",
       "      <td>Telecommunications</td>\n",
       "      <td>0.41</td>\n",
       "    </tr>\n",
       "    <tr>\n",
       "      <th>3</th>\n",
       "      <td>Business Services</td>\n",
       "      <td>Other Office Services</td>\n",
       "      <td>{'Security': 0.37}</td>\n",
       "      <td>Security</td>\n",
       "      <td>0.37</td>\n",
       "    </tr>\n",
       "  </tbody>\n",
       "</table>\n",
       "</div>"
      ],
      "text/plain": [
       "               input             actual_cat  \\\n",
       "3  Business Services  Other Office Services   \n",
       "3  Business Services  Other Office Services   \n",
       "3  Business Services  Other Office Services   \n",
       "3  Business Services  Other Office Services   \n",
       "3  Business Services  Other Office Services   \n",
       "\n",
       "                      all_predictions       predicted_category  \\\n",
       "3  {'Other Business Services': 94.05}  Other Business Services   \n",
       "3       {'Real Estate Expense': 2.92}      Real Estate Expense   \n",
       "3     {'Other Office Services': 0.95}    Other Office Services   \n",
       "3        {'Telecommunications': 0.41}       Telecommunications   \n",
       "3                  {'Security': 0.37}                 Security   \n",
       "\n",
       "  prediction_probability  \n",
       "3                  94.05  \n",
       "3                   2.92  \n",
       "3                   0.95  \n",
       "3                   0.41  \n",
       "3                   0.37  "
      ]
     },
     "execution_count": 54,
     "metadata": {},
     "output_type": "execute_result"
    }
   ],
   "source": [
    "multiple_predictions['predicted_category'] = multiple_predictions['all_predictions'].apply(lambda x:str(x.keys()).replace('dict_keys([\\'','').replace('\\'])',''))\n",
    "multiple_predictions['prediction_probability'] = multiple_predictions['all_predictions'].apply(lambda x:str(x.values()).replace('dict_values([','').replace('])',''))\n",
    "multiple_predictions.head()"
   ]
  },
  {
   "cell_type": "code",
   "execution_count": 55,
   "id": "c0f5a771",
   "metadata": {
    "ExecuteTime": {
     "end_time": "2023-05-03T14:38:27.350256Z",
     "start_time": "2023-05-03T14:38:27.310923Z"
    }
   },
   "outputs": [],
   "source": [
    "multiple_predictions[['input', 'actual_cat','predicted_category','prediction_probability']].to_excel(\"New_Model_Test_Failed_5_3.xlsx\", index=False)"
   ]
  },
  {
   "cell_type": "code",
   "execution_count": null,
   "id": "fc57c5c7",
   "metadata": {},
   "outputs": [],
   "source": []
  }
 ],
 "metadata": {
  "kernelspec": {
   "display_name": "Python 3",
   "language": "python",
   "name": "python3"
  },
  "language_info": {
   "codemirror_mode": {
    "name": "ipython",
    "version": 3
   },
   "file_extension": ".py",
   "mimetype": "text/x-python",
   "name": "python",
   "nbconvert_exporter": "python",
   "pygments_lexer": "ipython3",
   "version": "3.8.10"
  },
  "toc": {
   "base_numbering": 1,
   "nav_menu": {},
   "number_sections": false,
   "sideBar": true,
   "skip_h1_title": false,
   "title_cell": "Table of Contents",
   "title_sidebar": "Contents",
   "toc_cell": false,
   "toc_position": {},
   "toc_section_display": true,
   "toc_window_display": false
  }
 },
 "nbformat": 4,
 "nbformat_minor": 5
}
